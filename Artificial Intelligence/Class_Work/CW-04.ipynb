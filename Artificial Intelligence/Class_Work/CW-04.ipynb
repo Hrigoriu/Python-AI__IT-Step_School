{
 "cells": [
  {
   "cell_type": "code",
   "execution_count": 1,
   "id": "a3e019e4-be85-4991-96b3-c3bf7ef38538",
   "metadata": {},
   "outputs": [
    {
     "name": "stdout",
     "output_type": "stream",
     "text": [
      "Defaulting to user installation because normal site-packages is not writeable\n",
      "Requirement already satisfied: scipy in c:\\users\\user\\appdata\\roaming\\python\\python313\\site-packages (1.16.1)\n",
      "Requirement already satisfied: numpy<2.6,>=1.25.2 in c:\\users\\user\\appdata\\roaming\\python\\python313\\site-packages (from scipy) (2.3.2)\n"
     ]
    }
   ],
   "source": [
    "!pip install scipy"
   ]
  },
  {
   "cell_type": "markdown",
   "id": "ce9ab1eb-2343-46b0-b593-27166acdc510",
   "metadata": {},
   "source": [
    "# 1. Випадкова величина, середнє\n",
    "- Задача:\n",
    "    - Дано вибірку результатів тестування 10 студентів:\n",
    "    - [78, 85, 92, 88, 76, 95, 89, 84, 91, 87]\n",
    "    - Обчисліть математичне сподівання (середнє) вибірки."
   ]
  },
  {
   "cell_type": "code",
   "execution_count": 3,
   "id": "a26bb922-57f6-45ec-a7c2-efd3b09d721b",
   "metadata": {},
   "outputs": [
    {
     "name": "stdout",
     "output_type": "stream",
     "text": [
      "Середня оцінка (numpy): 86.5\n"
     ]
    }
   ],
   "source": [
    "import numpy as np\n",
    "\n",
    "grades = [78, 85, 92, 88, 76, 95, 89, 84, 91, 87]\n",
    "mean_grade_np = np.mean(grades)\n",
    "print(f\"Середня оцінка: {mean_grade_np}\")"
   ]
  },
  {
   "cell_type": "markdown",
   "id": "72c24ab9-462f-4f5a-95d8-3d4f90e59da6",
   "metadata": {},
   "source": [
    "# 2. Мода\n",
    "- Задача:\n",
    "    - Дані продажі за тиждень (у штуках):\n",
    "    - [5, 7, 5, 8, 7, 5, 9, 7, 7, 8]\n",
    "    - Знайдіть моду — найчастіше повторюване значення."
   ]
  },
  {
   "cell_type": "code",
   "execution_count": 17,
   "id": "1ce2584b-1140-4363-8e7e-eca652930333",
   "metadata": {},
   "outputs": [
    {
     "name": "stdout",
     "output_type": "stream",
     "text": [
      "Мода: 7\n"
     ]
    }
   ],
   "source": [
    "import numpy as np\n",
    "from scipy import stats\n",
    "\n",
    "sales = [5, 7, 5, 8, 7, 5, 9, 7, 7, 8]\n",
    "mode_scipy = stats.mode(sales)\n",
    "print(f\"Мода: {mode_scipy.mode}\")"
   ]
  },
  {
   "cell_type": "markdown",
   "id": "4495f0ef-5738-4ce8-9ca3-3a3be645e0dc",
   "metadata": {},
   "source": [
    "# 3. Медіана\n",
    "- Задача:\n",
    "    - Знайдіть медіану для набору:\n",
    "    - [45, 33, 38, 29, 40, 50, 42]"
   ]
  },
  {
   "cell_type": "code",
   "execution_count": 16,
   "id": "907dca34-4404-4a40-9118-bd796dd5bd27",
   "metadata": {},
   "outputs": [
    {
     "name": "stdout",
     "output_type": "stream",
     "text": [
      "Медіана: 40.0\n"
     ]
    }
   ],
   "source": [
    "import numpy as np\n",
    "\n",
    "numbers = [45, 33, 38, 29, 40, 50, 42]\n",
    "median_np = np.median(numbers)\n",
    "print(f\"Медіана: {median_np}\")"
   ]
  },
  {
   "cell_type": "markdown",
   "id": "4bcba92f-3743-4c79-85cd-8ec075b2b9f7",
   "metadata": {},
   "source": [
    "# 4. Дисперсія\n",
    "- Задача:\n",
    "    - Дано вибірку: [10, 12, 23, 23, 16, 23, 21, 16]\n",
    "    - Обчисліть дисперсію.\n",
    "    - Що робити:\n",
    "        - Визначте середнє\n",
    "        - для кожного елемента обчисліть квадрат відхилення від середнього\n",
    "        - знайдіть середнє цих квадратів."
   ]
  },
  {
   "cell_type": "code",
   "execution_count": 42,
   "id": "9b29d266-b733-4ad4-95b0-21e4bf4d5d75",
   "metadata": {},
   "outputs": [
    {
     "name": "stdout",
     "output_type": "stream",
     "text": [
      "Дисперсія: 24.0\n",
      "Середня квадратів: 18.0\n"
     ]
    }
   ],
   "source": [
    "import numpy as np\n",
    "\n",
    "data = [10, 12, 23, 23, 16, 23, 21, 16]\n",
    "variance_np = np.var(data) \n",
    "print(f\"Дисперсія: {variance_np}\")\n",
    "\n",
    "mean_np = np.mean(data)\n",
    "print(f\"Середня квадратів: {mean_np}\")"
   ]
  },
  {
   "cell_type": "markdown",
   "id": "a6295958-1404-4081-b8b1-8c8d7124cbfa",
   "metadata": {},
   "source": [
    "# 5. Середньоквадратичне відхилення\n",
    "- Задача:\n",
    "    - Для набору із задачі 4 знайдіть середньоквадратичне відхилення.\n",
    "    - Що робити:\n",
    "        - Візьміть квадратний корінь із дисперсії."
   ]
  },
  {
   "cell_type": "code",
   "execution_count": 20,
   "id": "ad6e7979-0a68-4709-9b2a-506095d4d0a3",
   "metadata": {},
   "outputs": [
    {
     "name": "stdout",
     "output_type": "stream",
     "text": [
      "Середньоквадратичне відхилення: 4.898979485566356\n"
     ]
    }
   ],
   "source": [
    "import numpy as np\n",
    "\n",
    "data = [10, 12, 23, 23, 16, 23, 21, 16]\n",
    "std_dev_value = np.std(data)\n",
    "print(f\"Середньоквадратичне відхилення: {std_dev_value}\")"
   ]
  },
  {
   "cell_type": "markdown",
   "id": "b9fbdc80-60e3-4f83-899f-152aee0c42c2",
   "metadata": {},
   "source": [
    "# 6. Рівномірний розподіл (теорія і практичний розрахунок)\n",
    "- Задача:\n",
    "    - Випадкова величина X рівномірно розподілена від 1 до 5.\n",
    "    - Знайдіть математичне сподівання і дисперсію."
   ]
  },
  {
   "cell_type": "code",
   "execution_count": 41,
   "id": "fff00c93-1eb6-4171-8b8f-a2d9c35bf05d",
   "metadata": {},
   "outputs": [
    {
     "name": "stdout",
     "output_type": "stream",
     "text": [
      "Математичне сподівання: 3.0\n",
      "Дисперсія: 1.3333333333333333\n"
     ]
    }
   ],
   "source": [
    "import numpy as np\n",
    "from scipy.stats import uniform\n",
    "\n",
    "a, b = 1, 5\n",
    "rv = uniform(loc=a, scale=b-a)\n",
    "\n",
    "mean = rv.mean()\n",
    "var = rv.var()\n",
    "\n",
    "print(f\"Математичне сподівання: {mean}\")\n",
    "print(f\"Дисперсія: {var}\")"
   ]
  },
  {
   "cell_type": "markdown",
   "id": "4c84c768-d6b6-4182-a23b-0de031383227",
   "metadata": {},
   "source": [
    "# 7. Нормальний розподіл — ймовірність попадання\n",
    "    - Задача:\n",
    "        - Зарплати співробітників мають нормальний розподіл з середнім 1000$ та стандартним відхиленням 200$.\n",
    "        - Знайдіть ймовірність, що зарплата співробітника буде більше 1200$.\n",
    "        - Що робити:\n",
    "            - Віднормуйте значення і знайдіть ймовірність у таблиці стандартного нормального розподілу."
   ]
  },
  {
   "cell_type": "code",
   "execution_count": 40,
   "id": "48239f9f-8891-4f28-9c6e-5cc9087e5b9b",
   "metadata": {},
   "outputs": [
    {
     "name": "stdout",
     "output_type": "stream",
     "text": [
      "Ймовірність зарплати більше 1200$: 0.1587\n"
     ]
    }
   ],
   "source": [
    "import numpy as np\n",
    "from scipy.stats import norm\n",
    "\n",
    "mu = 1000   # середнє\n",
    "sigma = 200 # стандартне відхилення\n",
    "x = 1200    # цікавить \"більше ніж\"\n",
    "\n",
    "p = 1 - norm.cdf(x, loc=mu, scale=sigma)\n",
    "print(f\"Ймовірність зарплати більше 1200$: {p:.4f}\")"
   ]
  },
  {
   "cell_type": "markdown",
   "id": "099d3899-ffc6-46df-b52c-c4134c328248",
   "metadata": {},
   "source": [
    "# 8. Розподіл Пуассона — ймовірність певної кількості подій\n",
    "- Задача:\n",
    "    - Середня кількість дзвінків у кол-центр — 3 на хвилину.\n",
    "    - Знайдіть ймовірність отримати рівно 5 дзвінків за одну хвилину."
   ]
  },
  {
   "cell_type": "code",
   "execution_count": 38,
   "id": "c215f70b-baa5-4de4-9b10-a9847092b093",
   "metadata": {},
   "outputs": [
    {
     "name": "stdout",
     "output_type": "stream",
     "text": [
      "Кількість дзвінків на 1 хв: [3 1 6]\n"
     ]
    }
   ],
   "source": [
    "import numpy as np\n",
    "from scipy.stats import poisson\n",
    "\n",
    "probability_5_calls = np.random.poisson(lam=5, size=3)\n",
    "print(\"Кількість дзвінків на 1 хв:\", probability_5_calls)"
   ]
  },
  {
   "cell_type": "code",
   "execution_count": 39,
   "id": "f62f0497-5007-4446-94a3-fb9e1865ffc5",
   "metadata": {},
   "outputs": [
    {
     "name": "stdout",
     "output_type": "stream",
     "text": [
      "Ймовірність отримати рівно 5 дзвінків: 0.10081881344492458\n"
     ]
    }
   ],
   "source": [
    "import numpy as np\n",
    "from scipy.stats import poisson\n",
    "\n",
    "lambda_val = 3  # Середня кількість дзвінків за хвилину (лямбда)\n",
    "k_value = 5     # Кількість дзвінків, яку ми хочемо знайти\n",
    "\n",
    "# poisson.pmf(k, mu) де k - кількість подій, mu - середнє\n",
    "probability_5_calls = poisson.pmf(k_value, lambda_val)\n",
    "print(f\"Ймовірність отримати рівно {k_value} дзвінків: {probability_5_calls}\")"
   ]
  },
  {
   "cell_type": "markdown",
   "id": "bd96a74d-0f62-4ccb-b6c7-637b3ff929bb",
   "metadata": {},
   "source": [
    "# 9. Коваріація\n",
    "- Задача:\n",
    "    - Дано дві вибірки:\n",
    "    - x = [1, 2, 3, 4, 5]\n",
    "    - y = [2, 4, 6, 8, 10]\n",
    "    - Обчисліть коваріацію."
   ]
  },
  {
   "cell_type": "code",
   "execution_count": 36,
   "id": "fd1176fa-f876-4740-a357-9260b69a7769",
   "metadata": {},
   "outputs": [
    {
     "name": "stdout",
     "output_type": "stream",
     "text": [
      "Коваріаційна матриця:\n",
      "[[ 2.5  5. ]\n",
      " [ 5.  10. ]]\n"
     ]
    }
   ],
   "source": [
    "import numpy as np\n",
    "\n",
    "x = [1, 2, 3, 4, 5]\n",
    "y = [2, 4, 6, 8, 10]\n",
    "\n",
    "cov_matrix = np.cov(x, y)\n",
    "print(\"Коваріаційна матриця:\")\n",
    "print(cov_matrix)"
   ]
  },
  {
   "cell_type": "markdown",
   "id": "04ab6eee-14eb-4aba-9845-344ee510db67",
   "metadata": {},
   "source": [
    "# 10. Кореляція\n",
    "- Задача:\n",
    "    - Використовуючи дані із задачі 9, обчисліть коефіцієнт кореляції Пірсона."
   ]
  },
  {
   "cell_type": "code",
   "execution_count": 37,
   "id": "bc3c29d3-d597-486e-a044-5c5e61b7cd0d",
   "metadata": {},
   "outputs": [
    {
     "name": "stdout",
     "output_type": "stream",
     "text": [
      "Кореляційна матриця:\n",
      "[[1. 1.]\n",
      " [1. 1.]]\n"
     ]
    }
   ],
   "source": [
    "import numpy as np\n",
    "\n",
    "x = [1, 2, 3, 4, 5]\n",
    "y = [2, 4, 6, 8, 10]\n",
    "\n",
    "correlation = np.corrcoef(x, y)\n",
    "print(\"Кореляційна матриця:\")\n",
    "print(correlation)"
   ]
  }
 ],
 "metadata": {
  "kernelspec": {
   "display_name": "Python 3 (ipykernel)",
   "language": "python",
   "name": "python3"
  },
  "language_info": {
   "codemirror_mode": {
    "name": "ipython",
    "version": 3
   },
   "file_extension": ".py",
   "mimetype": "text/x-python",
   "name": "python",
   "nbconvert_exporter": "python",
   "pygments_lexer": "ipython3",
   "version": "3.13.1"
  }
 },
 "nbformat": 4,
 "nbformat_minor": 5
}
