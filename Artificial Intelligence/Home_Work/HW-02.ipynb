{
 "cells": [
  {
   "cell_type": "markdown",
   "id": "405952da-b0ed-48c5-9e25-2cd9e3643f2b",
   "metadata": {},
   "source": [
    "# Завдання 1. Клас “Фільм”\n",
    "- Опис:\n",
    "  - Створи клас Movie з атрибутами: title, director, year.\n",
    "  - Додай метод info(), який повертає інформацію у форматі: \"Назва: ..., Режисер: ..., Рік: ...\".\n",
    "  - Створи 2–3 об’єкти та виклич метод info() для кожного."
   ]
  },
  {
   "cell_type": "code",
   "execution_count": 1,
   "id": "948d123f-8422-4ef7-9f32-dd2a60173a61",
   "metadata": {},
   "outputs": [
    {
     "name": "stdout",
     "output_type": "stream",
     "text": [
      "--- Інформація про фільми в колекції ---\n",
      "Назва: Інтерстеллар, Режисер: Крістофер Нолан, Рік: 2014\n",
      "Назва: Матриця, Режисер: Лана та Ліллі Вачовскі, Рік: 1999\n",
      "Назва: Термінатор 2: Судний день, Режисер: Джеймс Кемерон, Рік: 1991\n"
     ]
    }
   ],
   "source": [
    "class Movie:\n",
    "    def __init__(self, title, director, year):\n",
    "        self.title = title\n",
    "        self.director = director\n",
    "        self.year = year\n",
    "\n",
    "    def info(self):\n",
    "        return f\"Назва: {self.title}, Режисер: {self.director}, Рік: {self.year}\"\n",
    "\n",
    "# --- Демонстрація роботи ---\n",
    "\n",
    "movie1 = Movie(\"Інтерстеллар\", \"Крістофер Нолан\", 2014)\n",
    "movie2 = Movie(\"Матриця\", \"Лана та Ліллі Вачовскі\", 1999)\n",
    "movie3 = Movie(\"Термінатор 2: Судний день\", \"Джеймс Кемерон\", 1991)\n",
    "\n",
    "print(\"--- Інформація про фільми в колекції ---\")\n",
    "print(movie1.info())\n",
    "print(movie2.info())\n",
    "print(movie3.info())"
   ]
  },
  {
   "cell_type": "markdown",
   "id": "cd57a4ae-979e-41d3-8e94-6346ce30b90d",
   "metadata": {},
   "source": [
    "# Завдання 2. Клас “Студент з рейтингом”\n",
    "- Опис:\n",
    "    - Створи клас Student з атрибутами: name, grades (список чисел).\n",
    "    - Додай метод average() — середній бал.\n",
    "    - Додай метод passed() — повертає True, якщо середній бал ≥ 60.\n",
    "    - Створи список студентів і виведи тих, хто склав предмет."
   ]
  },
  {
   "cell_type": "code",
   "execution_count": 2,
   "id": "7a737cb5-f186-4edb-9215-a7a290da6131",
   "metadata": {},
   "outputs": [
    {
     "name": "stdout",
     "output_type": "stream",
     "text": [
      "Результати складання іспиту:\n",
      "Іван Петренко: складає іспит. Середній бал: 86.60\n",
      "Марія Сидоренко: НЕ складає іспит. Середній бал: 56.60\n",
      "Олег Ковальчук: складає іспит. Середній бал: 97.80\n",
      "Анна Бондаренко: НЕ складає іспит. Середній бал: 50.00\n"
     ]
    }
   ],
   "source": [
    "class Student:\n",
    "    def __init__(self, name, grades):\n",
    "        self.name = name\n",
    "        self.grades = grades\n",
    "\n",
    "    def average_grade(self):\n",
    "        if not self.grades:\n",
    "            return 0\n",
    "        return sum(self.grades) / len(self.grades)\n",
    "\n",
    "    def is_passing(self):\n",
    "        return self.average_grade() >= 60\n",
    "\n",
    "student1 = Student(\"Іван Петренко\", [85, 90, 78, 92, 88])\n",
    "student2 = Student(\"Марія Сидоренко\", [55, 62, 48, 58, 60])\n",
    "student3 = Student(\"Олег Ковальчук\", [95, 98, 100, 97, 99])\n",
    "student4 = Student(\"Анна Бондаренко\", [40, 50, 60, 55, 45])\n",
    "\n",
    "students_list = [student1, student2, student3, student4]\n",
    "\n",
    "print(\"Результати складання іспиту:\")\n",
    "for student in students_list:\n",
    "    avg = student.average_grade()\n",
    "    if student.is_passing():\n",
    "        print(f\"{student.name}: складає іспит. Середній бал: {avg:.2f}\")\n",
    "    else:\n",
    "        print(f\"{student.name}: НЕ складає іспит. Середній бал: {avg:.2f}\")"
   ]
  },
  {
   "cell_type": "markdown",
   "id": "004bb0d6-a1f0-4b17-b466-48c53b731b09",
   "metadata": {},
   "source": [
    "# Завдання 3. Клас “Банк з відсотками”\n",
    "- Опис:\n",
    "    - Створи клас BankAccount з атрибутами owner, balance.\n",
    "    - Методи:\n",
    "    - deposit(amount) — поповнення,\n",
    "    - withdraw(amount) — зняття, якщо вистачає коштів,\n",
    "    - add_interest(rate) — нарахування відсотків на баланс.\n",
    "    - Продемонструй роботу на кількох рахунках."
   ]
  },
  {
   "cell_type": "code",
   "execution_count": 4,
   "id": "37f30187-bbd6-464a-8a64-0c6ad456527a",
   "metadata": {},
   "outputs": [
    {
     "name": "stdout",
     "output_type": "stream",
     "text": [
      "\n",
      "--- Операції з рахунком Івана ---\n",
      " Створено рахунок для 'Іван Петренко' з початковим балансом: 5000.00 грн.\n",
      " Рахунок поповнено на 1500.00 грн. Новий баланс: 6500.00 грн.\n",
      " Знято 700.00 грн. Залишок на рахунку: 5800.00 грн.\n",
      " Нараховано відсотки за ставкою 5%. Сума: 290.00 грн.\n",
      "   Новий баланс: 6090.00 грн.\n",
      "--- Поточний стан рахунку 'Іван Петренко': 6090.00 грн. ---\n",
      "\n",
      "========================================\n",
      "\n",
      "--- Операції з рахунком Ольги ---\n",
      " Створено рахунок для 'Ольга Ковальчук' з початковим балансом: 0.00 грн.\n",
      " Рахунок поповнено на 10000.00 грн. Новий баланс: 10000.00 грн.\n",
      " Недостатньо коштів. Поточний баланс: 10000.00 грн.\n",
      " Нараховано відсотки за ставкою 7.5%. Сума: 750.00 грн.\n",
      "   Новий баланс: 10750.00 грн.\n",
      " Знято 5000.00 грн. Залишок на рахунку: 5750.00 грн.\n",
      "--- Поточний стан рахунку 'Ольга Ковальчук': 5750.00 грн. ---\n"
     ]
    }
   ],
   "source": [
    "class BankAccount:\n",
    "    def __init__(self, owner, balance=0.0):\n",
    "        self.owner = owner\n",
    "        self.balance = balance\n",
    "        print(f\" Створено рахунок для '{self.owner}' з початковим балансом: {self.balance:.2f} грн.\")\n",
    "\n",
    "    def deposit(self, amount):\n",
    "        if amount > 0:\n",
    "            self.balance += amount\n",
    "            print(f\" Рахунок поповнено на {amount:.2f} грн. Новий баланс: {self.balance:.2f} грн.\")\n",
    "        else:\n",
    "            print(\" Помилка: Сума поповнення повинна бути додатною.\")\n",
    "\n",
    "    def withdraw(self, amount):\n",
    "        if amount <= 0:\n",
    "            print(\" Помилка: Сума для зняття повинна бути додатною.\")\n",
    "        elif amount > self.balance:\n",
    "            print(f\" Недостатньо коштів. Поточний баланс: {self.balance:.2f} грн.\")\n",
    "        else:\n",
    "            self.balance -= amount\n",
    "            print(f\" Знято {amount:.2f} грн. Залишок на рахунку: {self.balance:.2f} грн.\")\n",
    "    \n",
    "    def add_interest(self, rate):\n",
    "        if rate > 0:\n",
    "            interest_amount = self.balance * (rate / 100)\n",
    "            self.balance += interest_amount\n",
    "            print(f\" Нараховано відсотки за ставкою {rate}%. Сума: {interest_amount:.2f} грн.\")\n",
    "            print(f\"   Новий баланс: {self.balance:.2f} грн.\")\n",
    "        else:\n",
    "            print(\" Помилка: Відсоткова ставка повинна бути додатною.\")\n",
    "\n",
    "    def display_balance(self):\n",
    "        print(f\"--- Поточний стан рахунку '{self.owner}': {self.balance:.2f} грн. ---\")\n",
    "\n",
    "# --- Демонстрація роботи ---\n",
    "if __name__ == \"__main__\":\n",
    "    print(\"\\n--- Операції з рахунком Івана ---\")\n",
    "    account1 = BankAccount(\"Іван Петренко\", 5_000)\n",
    "    account1.deposit(1500)\n",
    "    account1.withdraw(700)\n",
    "    account1.add_interest(5)      # Нараховуємо 5% річних\n",
    "    account1.display_balance()\n",
    "\n",
    "    print(\"\\n\" + \"=\"*40 + \"\\n\")\n",
    "\n",
    "    print(\"--- Операції з рахунком Ольги ---\")\n",
    "    account2 = BankAccount(\"Ольга Ковальчук\")\n",
    "    account2.deposit(10_000)\n",
    "    account2.withdraw(12_000) # Перевірка помилки\n",
    "    account2.add_interest(7.5)    # Нараховуємо 7.5%\n",
    "    account2.withdraw(5000)\n",
    "    account2.display_balance()"
   ]
  },
  {
   "cell_type": "markdown",
   "id": "97b11695-e4b0-4329-9a62-62bbfcd59db0",
   "metadata": {},
   "source": [
    "# Завдання 4. Наслідування: “Транспорт”\n",
    "- Опис:\n",
    "    - Створи клас Vehicle з атрибутами make, year і методом info().\n",
    "    - Створи класи Car та Bike, які наслідують Vehicle і додатково мають:\n",
    "        - Car — атрибут doors\n",
    "        - Bike — атрибут type (mountain/road)\n",
    "    - Перевизнач метод info() для кожного класу."
   ]
  },
  {
   "cell_type": "code",
   "execution_count": 10,
   "id": "9e068892-f615-440d-b68e-4d8016ac6da8",
   "metadata": {},
   "outputs": [
    {
     "name": "stdout",
     "output_type": "stream",
     "text": [
      "--- Інформація про транспорт ---\n",
      "Виробник: Транспортний Засіб, Рік випуску: 2020\n",
      "Автомобіль: Виробник: Toyota, Рік випуску: 2022, Кількість дверей: 4\n",
      "Велосипед: Виробник: Trek, Рік випуску: 2023, Тип: гірський\n"
     ]
    }
   ],
   "source": [
    "class Vehicle:\n",
    "    def __init__(self, make, year):\n",
    "        self.make = make\n",
    "        self.year = year\n",
    "        \n",
    "    def info(self):\n",
    "        return f\"Виробник: {self.make}, Рік випуску: {self.year}\"\n",
    "\n",
    "class Car(Vehicle):\n",
    "    def __init__(self, make, year, doors):\n",
    "        super().__init__(make, year)\n",
    "        self.doors = doors\n",
    "        \n",
    "    def info(self):\n",
    "        car_info = super().info()\n",
    "        return f\"Автомобіль: {car_info}, Кількість дверей: {self.doors}\"\n",
    "\n",
    "class Bike(Vehicle):\n",
    "    def __init__(self, make, year, bike_type):\n",
    "        super().__init__(make, year)\n",
    "        self.bike_type = bike_type\n",
    "        \n",
    "    def info(self):\n",
    "        bike_info = super().info()\n",
    "        return f\"Велосипед: {bike_info}, Тип: {self.bike_type}\"\n",
    "\n",
    "# --- Демонстрація ---\n",
    "if __name__ == \"__main__\":\n",
    "    generic_vehicle = Vehicle(\"Транспортний Засіб\", 2020)\n",
    "    my_car = Car(\"Toyota\", 2022, 4)\n",
    "    my_bike = Bike(\"Trek\", 2023, \"гірський\")\n",
    "\n",
    "    print(\"--- Інформація про транспорт ---\")\n",
    "    print(generic_vehicle.info())\n",
    "    print(my_car.info())\n",
    "    print(my_bike.info())"
   ]
  },
  {
   "cell_type": "markdown",
   "id": "d30fac4d-bc1f-4979-b05d-c600163776dc",
   "metadata": {},
   "source": [
    "# Завдання 5. Контейнер “Бібліотека”\n",
    "- Опис:\n",
    "    - Створи клас Library, який зберігає список об’єктів Book.\n",
    "        - Методи:\n",
    "            - add_book(book)\n",
    "            - list_books()\n",
    "            - find_by_year(year) — знайти всі книги певного року.\n",
    "    - Створи 3–5 книг та протестуй методи."
   ]
  },
  {
   "cell_type": "code",
   "execution_count": 9,
   "id": "cb2e056b-ec29-4d68-9966-3d6fee95f76d",
   "metadata": {},
   "outputs": [
    {
     "name": "stdout",
     "output_type": "stream",
     "text": [
      "Бібліотеку 'Моя бібліотека' створено!\n",
      "Книгу 'Дюна' додано до бібліотеки.\n",
      "Книгу 'Фундація' додано до бібліотеки.\n",
      "Книгу 'Темна вежа: Стрілець' додано до бібліотеки.\n",
      "Книгу 'Стар Трек' додано до бібліотеки.\n",
      "\n",
      "--- Книги в бібліотеці 'Моя бібліотека' ---\n",
      "  - Назва: 'Дюна', Автор: Айзек Азімов, Рік: 1965\n",
      "  - Назва: 'Фундація', Автор: Іван Франко, Рік: 1951\n",
      "  - Назва: 'Темна вежа: Стрілець', Автор: Стівен Кінг, Рік: 1982\n",
      "  - Назва: 'Стар Трек', Автор: Джин Родденберрі, Рік: 1966\n",
      "----------------------------------------\n",
      "\n",
      "--- Результати пошуку за автором 'Айзек Азімов' ---\n",
      "  - Назва: 'Дюна', Автор: Айзек Азімов, Рік: 1965\n",
      "----------------------------------------\n",
      "\n",
      "--- Результати пошуку за автором 'Ілон Маск' ---\n",
      "Книг цього автора не знайдено.\n",
      "----------------------------------------\n"
     ]
    }
   ],
   "source": [
    "class Book:\n",
    "    def __init__(self, title, author, year):\n",
    "        self.title = title\n",
    "        self.author = author\n",
    "        self.year = year\n",
    "\n",
    "    def display_info(self):\n",
    "        print(f\"  - Назва: '{self.title}', Автор: {self.author}, Рік: {self.year}\")\n",
    "\n",
    "class Library:\n",
    "    def __init__(self, name):\n",
    "        self.name = name\n",
    "        self.books = []\n",
    "        print(f\"Бібліотеку '{self.name}' створено!\")\n",
    "\n",
    "    def add_book(self, book):\n",
    "        if isinstance(book, Book):\n",
    "            self.books.append(book)\n",
    "            print(f\"Книгу '{book.title}' додано до бібліотеки.\")\n",
    "        else:\n",
    "            print(\"Помилка: можна додавати лише об'єкти класу Book.\")\n",
    "            \n",
    "    def list_books(self):\n",
    "        print(f\"\\n--- Книги в бібліотеці '{self.name}' ---\")\n",
    "        if not self.books:\n",
    "            print(\"Бібліотека порожня.\")\n",
    "        else:\n",
    "            for book in self.books:\n",
    "                book.display_info()\n",
    "        print(\"----------------------------------------\")\n",
    "\n",
    "    def find_by_author(self, author_name):\n",
    "        print(f\"\\n--- Результати пошуку за автором '{author_name}' ---\")\n",
    "        found_books = []\n",
    "        for book in self.books:\n",
    "            if book.author == author_name:\n",
    "                found_books.append(book)       \n",
    "        if not found_books:\n",
    "            print(\"Книг цього автора не знайдено.\")\n",
    "        else:\n",
    "            for book in found_books:\n",
    "                book.display_info()\n",
    "        print(\"----------------------------------------\")\n",
    "\n",
    "\n",
    "# --- Демонстрація ---\n",
    "my_library = Library(\"Моя бібліотека\")\n",
    "\n",
    "book1 = Book(\"Дюна\", \"Айзек Азімов\", 1965)\n",
    "book2 = Book(\"Фундація\", \"Іван Франко\", 1951)\n",
    "book3 = Book(\"Темна вежа: Стрілець\", \"Стівен Кінг\", 1982)\n",
    "book4 = Book(\"Стар Трек\", \"Джин Родденберрі\", 1966)\n",
    "\n",
    "my_library.add_book(book1)\n",
    "my_library.add_book(book2)\n",
    "my_library.add_book(book3)\n",
    "my_library.add_book(book4)\n",
    "\n",
    "my_library.list_books()\n",
    "\n",
    "my_library.find_by_author(\"Айзек Азімов\")\n",
    "my_library.find_by_author(\"Ілон Маск\")    #Щоб провірити помилку"
   ]
  },
  {
   "cell_type": "markdown",
   "id": "e0b947bc-14af-4e8d-b23a-a89fd8d7b0f9",
   "metadata": {},
   "source": [
    "# Завдання 6. Клас “Черга покупок”\n",
    "- Опис:\n",
    "    - Створи клас Queue з методами:\n",
    "        - enqueue(item) — додати елемент,\n",
    "        - dequeue() — видалити перший елемент,\n",
    "        - peek() — подивитися перший елемент.\n",
    "    - Продемонструй роботу на прикладі покупок у магазині."
   ]
  },
  {
   "cell_type": "code",
   "execution_count": 39,
   "id": "e0801a65-290b-418e-8b27-6d1fd4731295",
   "metadata": {},
   "outputs": [
    {
     "name": "stdout",
     "output_type": "stream",
     "text": [
      "--- Починаємо покупки в магазині ---\n",
      "\n",
      "--- 1. Наш кошик  ---\n",
      " В кошик додано: 'Молоко'. \tПоточний кошик: ['Молоко']\n",
      " В кошик додано: 'Хліб'. \tПоточний кошик: ['Молоко', 'Хліб']\n",
      " В кошик додано: 'Яйця'. \tПоточний кошик: ['Молоко', 'Хліб', 'Яйця']\n",
      " В кошик додано: 'Сир'. \tПоточний кошик: ['Молоко', 'Хліб', 'Яйця', 'Сир']\n",
      "\n",
      "--- 2. Перевіряємо, що наступне на касі ---\n",
      " Наступний товар на касі: Молоко\n",
      "\n",
      "--- 3. Розраховуємось на касі ---\n",
      "На касі пробито: 'Молоко'. \tЗалишилось в кошику: ['Хліб', 'Яйця', 'Сир']\n",
      "На касі пробито: 'Хліб'. \tЗалишилось в кошику: ['Яйця', 'Сир']\n",
      "\n",
      "--- 4. Перевіряємо, що наступне на касі ---\n",
      " Наступний товар на касі: Яйця\n",
      "\n",
      "--- 5. Завершуємо покупки ---\n",
      "На касі пробито: 'Яйця'. \tЗалишилось в кошику: ['Сир']\n",
      "На касі пробито: 'Сир'. \tЗалишилось в кошику: []\n",
      "\n",
      "--- 6. Перевіряємо чи наш кошик порожній ---\n",
      "Кошик порожній, можна йти додому!\n",
      "\n",
      "--- 7. Спроба взяти щось з порожнього кошика ---\n",
      "Кошик порожній — немає нічого!\n",
      "Кошик порожній — немає що пробивати на касі!\n"
     ]
    }
   ],
   "source": [
    "class Queue:\n",
    "    def __init__(self):\n",
    "        self._items = []\n",
    "\n",
    "    def is_empty(self):\n",
    "        return not self._items\n",
    "\n",
    "    def enqueue(self, item):\n",
    "        self._items.append(item)\n",
    "        print(f\" В кошик додано: '{item}'. \\tПоточний кошик: {self._items}\")\n",
    "\n",
    "    def dequeue(self):\n",
    "        if not self.is_empty():\n",
    "            item = self._items.pop(0)\n",
    "            print(f\"На касі пробито: '{item}'. \\tЗалишилось в кошику: {self._items}\")\n",
    "            return item\n",
    "        else:\n",
    "            print(\"Кошик порожній — немає що пробивати на касі!\")\n",
    "            return None\n",
    "            \n",
    "    def peek(self):\n",
    "        if not self.is_empty():\n",
    "            return self._items[0]\n",
    "        else:\n",
    "            print(\"Кошик порожній — немає нічого!\")\n",
    "            return None\n",
    "\n",
    "# --- Демонстрація ---\n",
    "print(\"--- Починаємо покупки в магазині ---\")\n",
    "shopping_cart = Queue()\n",
    "\n",
    "print(\"\\n--- 1. Наш кошик  ---\")\n",
    "shopping_cart.enqueue(\"Молоко\")\n",
    "shopping_cart.enqueue(\"Хліб\")\n",
    "shopping_cart.enqueue(\"Яйця\")\n",
    "shopping_cart.enqueue(\"Сир\")\n",
    "\n",
    "print(\"\\n--- 2. Перевіряємо, що наступне на касі ---\")\n",
    "next_item = shopping_cart.peek()\n",
    "if next_item:\n",
    "    print(f\" Наступний товар на касі: {next_item}\")\n",
    "\n",
    "print(\"\\n--- 3. Розраховуємось на касі ---\")\n",
    "shopping_cart.dequeue()\n",
    "shopping_cart.dequeue()\n",
    "\n",
    "print(\"\\n--- 4. Перевіряємо, що наступне на касі ---\")\n",
    "next_item = shopping_cart.peek()\n",
    "if next_item:\n",
    "    print(f\" Наступний товар на касі: {next_item}\")\n",
    "\n",
    "print(\"\\n--- 5. Завершуємо покупки ---\")\n",
    "shopping_cart.dequeue()\n",
    "shopping_cart.dequeue()\n",
    "\n",
    "print(\"\\n--- 6. Перевіряємо чи наш кошик порожній ---\")\n",
    "if shopping_cart.is_empty():\n",
    "    print(\"Кошик порожній, можна йти додому!\")\n",
    "\n",
    "print(\"\\n--- 7. Спроба взяти щось з порожнього кошика ---\")\n",
    "shopping_cart.peek()     \n",
    "shopping_cart.dequeue()"
   ]
  },
  {
   "cell_type": "markdown",
   "id": "d9854956-c34c-447c-bd84-cca036566935",
   "metadata": {},
   "source": [
    "# Завдання 7. Клас “Стек книг”\n",
    "- Опис:\n",
    "    - Створи клас Stack з методами:\n",
    "        - push(book) — покласти книгу зверху,\n",
    "        - pop() — взяти останню книгу,\n",
    "        - peek() — подивитися останню книгу.\n",
    "    - Використовуй список як внутрішню структуру."
   ]
  },
  {
   "cell_type": "code",
   "execution_count": 37,
   "id": "d2256ea1-ee26-4d18-9957-7ed6c390e244",
   "metadata": {},
   "outputs": [
    {
     "name": "stdout",
     "output_type": "stream",
     "text": [
      "--- Складаємо стопку книг на столі ---\n",
      "\n",
      "--- 1. Кладемо книги одна на одну ---\n",
      "Книгу 'Дюна' покладено на стопку.       \tПоточна стопка: ['Дюна']\n",
      "Книгу 'Фундація' покладено на стопку.       \tПоточна стопка: ['Дюна', 'Фундація']\n",
      "Книгу 'Гаррі Поттер' покладено на стопку.       \tПоточна стопка: ['Дюна', 'Фундація', 'Гаррі Поттер']\n",
      "Книгу 'Володар Перснів' покладено на стопку.       \tПоточна стопка: ['Дюна', 'Фундація', 'Гаррі Поттер', 'Володар Перснів']\n",
      "\n",
      "--- 2. Яка книга лежить зверху? ---\n",
      "Зверху лежить: 'Володар Перснів'\n",
      "\n",
      "--- 3. Беремо книги зі стопки ---\n",
      "Книгу 'Володар Перснів' взято зі стопки.   \tЗалишилось: ['Дюна', 'Фундація', 'Гаррі Поттер']\n",
      "Книгу 'Гаррі Поттер' взято зі стопки.   \tЗалишилось: ['Дюна', 'Фундація']\n",
      "\n",
      "--- 4. Перевіряємо, яка книга тепер зверху ---\n",
      "Тепер зверху лежить: 'Фундація'\n",
      "\n",
      "--- 5. Забираємо решту книг ---\n",
      "Книгу 'Фундація' взято зі стопки.   \tЗалишилось: ['Дюна']\n",
      "Книгу 'Дюна' взято зі стопки.   \tЗалишилось: []\n",
      "\n",
      "--- 6. Перевіряємо, яка книга тепер зверху ---\n",
      "Стопка порожня. Немає на що дивитись.\n",
      "\n",
      "--- 7. Спроба взяти щось з порожньої стопки ---\n",
      "Стопка порожня. Немає що брати.\n"
     ]
    }
   ],
   "source": [
    "class Stack:\n",
    "    def __init__(self):\n",
    "        self._books = []\n",
    "\n",
    "    def is_empty(self):\n",
    "        return not self._books\n",
    "\n",
    "    def push(self, book):\n",
    "        self._books.append(book)\n",
    "        print(f\"Книгу '{book}' покладено на стопку.       \\tПоточна стопка: {self._books}\")\n",
    "\n",
    "    def pop(self):\n",
    "        if not self.is_empty():\n",
    "            book = self._books.pop()\n",
    "            print(f\"Книгу '{book}' взято зі стопки.   \\tЗалишилось: {self._books}\")\n",
    "            return book\n",
    "        else:\n",
    "            print(\"Стопка порожня. Немає що брати.\")\n",
    "            return None\n",
    "\n",
    "    def peek(self):\n",
    "        if not self.is_empty():\n",
    "            return self._books[-1]\n",
    "        else:\n",
    "            print(\"Стопка порожня. Немає на що дивитись.\")\n",
    "            return None\n",
    "\n",
    "# --- Демонстрація на прикладі стопки книг ---\n",
    "if __name__ == \"__main__\":\n",
    "    print(\"--- Складаємо стопку книг на столі ---\")    \n",
    "    book_stack = Stack()\n",
    "\n",
    "    print(\"\\n--- 1. Кладемо книги одна на одну ---\")\n",
    "    book_stack.push(\"Дюна\")    \n",
    "    book_stack.push(\"Фундація\")\n",
    "    book_stack.push(\"Гаррі Поттер\")\n",
    "    book_stack.push(\"Володар Перснів\")\n",
    "\n",
    "    print(\"\\n--- 2. Яка книга лежить зверху? ---\")\n",
    "    top_book = book_stack.peek()\n",
    "    if top_book:\n",
    "        print(f\"Зверху лежить: '{top_book}'\")\n",
    "\n",
    "    print(\"\\n--- 3. Беремо книги зі стопки ---\")\n",
    "    book_stack.pop()\n",
    "    book_stack.pop()\n",
    "\n",
    "    print(\"\\n--- 4. Перевіряємо, яка книга тепер зверху ---\")\n",
    "    top_book = book_stack.peek()\n",
    "    if top_book:\n",
    "        print(f\"Тепер зверху лежить: '{top_book}'\")\n",
    "    \n",
    "    print(\"\\n--- 5. Забираємо решту книг ---\")\n",
    "    book_stack.pop()\n",
    "    book_stack.pop()\n",
    "\n",
    "    print(\"\\n--- 6. Перевіряємо, яка книга тепер зверху ---\")\n",
    "    top_book = book_stack.peek()\n",
    "    if top_book:\n",
    "        print(f\"Тепер зверху лежить: '{top_book}'\")    \n",
    "\n",
    "    print(\"\\n--- 7. Спроба взяти щось з порожньої стопки ---\")\n",
    "    book_stack.pop()"
   ]
  },
  {
   "cell_type": "markdown",
   "id": "be679ba5-7b81-430e-8422-703f766bfc98",
   "metadata": {},
   "source": [
    "# Завдання 8. Гра “Вгадай слово”\n",
    "- Опис:\n",
    "    - Створи клас WordGame з методами:\n",
    "        - set_word(word) — задає слово для відгадування\n",
    "        - guess(letter) — перевіряє букву, повертає True/False\n",
    "        - display() — показує поточний стан слова з відгаданими літерами\n",
    "        - play() — цикл гри, поки користувач не відгадає слово."
   ]
  },
  {
   "cell_type": "code",
   "execution_count": 40,
   "id": "9664d6a8-6285-4085-8cfb-25558cda7590",
   "metadata": {},
   "outputs": [
    {
     "name": "stdout",
     "output_type": "stream",
     "text": [
      "--- Нова гра 'Вгадай слово' почалася! ---\n",
      "\n",
      "--- Спроба №: 1 ---\n",
      "\n",
      "Слово: _ _ _ _ _ _ _ _ _ _ _ _ _ \n",
      "Використані літери: [  ]\n"
     ]
    },
    {
     "name": "stdin",
     "output_type": "stream",
     "text": [
      "Введіть вашу літеру:  р\n"
     ]
    },
    {
     "name": "stdout",
     "output_type": "stream",
     "text": [
      "Правильно! Така літера є в слові.\n",
      "\n",
      "--- Спроба №: 2 ---\n",
      "\n",
      "Слово: _ р _ _ р _ _ _ _ _ _ _ _ \n",
      "Використані літери: [ р ]\n"
     ]
    },
    {
     "name": "stdin",
     "output_type": "stream",
     "text": [
      "Введіть вашу літеру:  к\n"
     ]
    },
    {
     "name": "stdout",
     "output_type": "stream",
     "text": [
      "На жаль, такої літери немає.\n",
      "\n",
      "--- Спроба №: 3 ---\n",
      "\n",
      "Слово: _ р _ _ р _ _ _ _ _ _ _ _ \n",
      "Використані літери: [ к, р ]\n"
     ]
    },
    {
     "name": "stdin",
     "output_type": "stream",
     "text": [
      "Введіть вашу літеру:  д\n"
     ]
    },
    {
     "name": "stdout",
     "output_type": "stream",
     "text": [
      "На жаль, такої літери немає.\n",
      "\n",
      "--- Спроба №: 4 ---\n",
      "\n",
      "Слово: _ р _ _ р _ _ _ _ _ _ _ _ \n",
      "Використані літери: [ д, к, р ]\n"
     ]
    },
    {
     "name": "stdin",
     "output_type": "stream",
     "text": [
      "Введіть вашу літеру:  п\n"
     ]
    },
    {
     "name": "stdout",
     "output_type": "stream",
     "text": [
      "Правильно! Така літера є в слові.\n",
      "\n",
      "--- Спроба №: 5 ---\n",
      "\n",
      "Слово: п р _ _ р _ _ _ _ _ _ _ _ \n",
      "Використані літери: [ д, к, п, р ]\n"
     ]
    },
    {
     "name": "stdin",
     "output_type": "stream",
     "text": [
      "Введіть вашу літеру:  а\n"
     ]
    },
    {
     "name": "stdout",
     "output_type": "stream",
     "text": [
      "Правильно! Така літера є в слові.\n",
      "\n",
      "--- Спроба №: 6 ---\n",
      "\n",
      "Слово: п р _ _ р а _ _ _ а _ _ _ \n",
      "Використані літери: [ а, д, к, п, р ]\n"
     ]
    },
    {
     "name": "stdin",
     "output_type": "stream",
     "text": [
      "Введіть вашу літеру:  м\n"
     ]
    },
    {
     "name": "stdout",
     "output_type": "stream",
     "text": [
      "Правильно! Така літера є в слові.\n",
      "\n",
      "--- Спроба №: 7 ---\n",
      "\n",
      "Слово: п р _ _ р а м _ _ а _ _ _ \n",
      "Використані літери: [ а, д, к, м, п, р ]\n"
     ]
    },
    {
     "name": "stdin",
     "output_type": "stream",
     "text": [
      "Введіть вашу літеру:  к\n"
     ]
    },
    {
     "name": "stdout",
     "output_type": "stream",
     "text": [
      "Ви вже писали літеру 'к'. Спробуйте іншу.\n",
      "На жаль, такої літери немає.\n",
      "\n",
      "--- Спроба №: 8 ---\n",
      "\n",
      "Слово: п р _ _ р а м _ _ а _ _ _ \n",
      "Використані літери: [ а, д, к, м, п, р ]\n"
     ]
    },
    {
     "name": "stdin",
     "output_type": "stream",
     "text": [
      "Введіть вашу літеру:  ф\n"
     ]
    },
    {
     "name": "stdout",
     "output_type": "stream",
     "text": [
      "На жаль, такої літери немає.\n",
      "\n",
      "--- Спроба №: 9 ---\n",
      "\n",
      "Слово: п р _ _ р а м _ _ а _ _ _ \n",
      "Використані літери: [ а, д, к, м, п, р, ф ]\n"
     ]
    },
    {
     "name": "stdin",
     "output_type": "stream",
     "text": [
      "Введіть вашу літеру:  у\n"
     ]
    },
    {
     "name": "stdout",
     "output_type": "stream",
     "text": [
      "Правильно! Така літера є в слові.\n",
      "\n",
      "--- Спроба №: 10 ---\n",
      "\n",
      "Слово: п р _ _ р а м у _ а _ _ _ \n",
      "Використані літери: [ а, д, к, м, п, р, у, ф ]\n"
     ]
    },
    {
     "name": "stdin",
     "output_type": "stream",
     "text": [
      "Введіть вашу літеру:  г\n"
     ]
    },
    {
     "name": "stdout",
     "output_type": "stream",
     "text": [
      "Правильно! Така літера є в слові.\n",
      "\n",
      "--- Спроба №: 11 ---\n",
      "\n",
      "Слово: п р _ г р а м у _ а _ _ _ \n",
      "Використані літери: [ а, г, д, к, м, п, р, у, ф ]\n"
     ]
    },
    {
     "name": "stdin",
     "output_type": "stream",
     "text": [
      "Введіть вашу літеру:  в\n"
     ]
    },
    {
     "name": "stdout",
     "output_type": "stream",
     "text": [
      "Правильно! Така літера є в слові.\n",
      "\n",
      "--- Спроба №: 12 ---\n",
      "\n",
      "Слово: п р _ г р а м у в а _ _ _ \n",
      "Використані літери: [ а, в, г, д, к, м, п, р, у, ф ]\n"
     ]
    },
    {
     "name": "stdin",
     "output_type": "stream",
     "text": [
      "Введіть вашу літеру:  о\n"
     ]
    },
    {
     "name": "stdout",
     "output_type": "stream",
     "text": [
      "Правильно! Така літера є в слові.\n",
      "\n",
      "--- Спроба №: 13 ---\n",
      "\n",
      "Слово: п р о г р а м у в а _ _ _ \n",
      "Використані літери: [ а, в, г, д, к, м, о, п, р, у, ф ]\n"
     ]
    },
    {
     "name": "stdin",
     "output_type": "stream",
     "text": [
      "Введіть вашу літеру:  щ\n"
     ]
    },
    {
     "name": "stdout",
     "output_type": "stream",
     "text": [
      "На жаль, такої літери немає.\n",
      "\n",
      "--- Спроба №: 14 ---\n",
      "\n",
      "Слово: п р о г р а м у в а _ _ _ \n",
      "Використані літери: [ а, в, г, д, к, м, о, п, р, у, ф, щ ]\n"
     ]
    },
    {
     "name": "stdin",
     "output_type": "stream",
     "text": [
      "Введіть вашу літеру:  н\n"
     ]
    },
    {
     "name": "stdout",
     "output_type": "stream",
     "text": [
      "Правильно! Така літера є в слові.\n",
      "\n",
      "--- Спроба №: 15 ---\n",
      "\n",
      "Слово: п р о г р а м у в а н н _ \n",
      "Використані літери: [ а, в, г, д, к, м, н, о, п, р, у, ф, щ ]\n"
     ]
    },
    {
     "name": "stdin",
     "output_type": "stream",
     "text": [
      "Введіть вашу літеру:  і\n"
     ]
    },
    {
     "name": "stdout",
     "output_type": "stream",
     "text": [
      "На жаль, такої літери немає.\n",
      "\n",
      "--- Спроба №: 16 ---\n",
      "\n",
      "Слово: п р о г р а м у в а н н _ \n",
      "Використані літери: [ а, в, г, д, к, м, н, о, п, р, у, ф, щ, і ]\n"
     ]
    },
    {
     "name": "stdin",
     "output_type": "stream",
     "text": [
      "Введіть вашу літеру:  я\n"
     ]
    },
    {
     "name": "stdout",
     "output_type": "stream",
     "text": [
      "Правильно! Така літера є в слові.\n",
      "\n",
      "===================================\n",
      "\n",
      "Слово: п р о г р а м у в а н н я \n",
      "Використані літери: [ а, в, г, д, к, м, н, о, п, р, у, ф, щ, я, і ]\n",
      "ВІТАЮ! Ви вгадали слово 'ПРОГРАМУВАННЯ'! \n",
      "Кількість ваших спроб: 16\n",
      "===================================\n"
     ]
    }
   ],
   "source": [
    "class WordGame:\n",
    "    def __init__(self):\n",
    "        self._secret_word = \"\"\n",
    "        self._guessed_letters = set()\n",
    "\n",
    "    def set_word(self, word):\n",
    "        self._secret_word = word.lower()\n",
    "        self._guessed_letters = set()\n",
    "        print(\"--- Нова гра 'Вгадай слово' почалася! ---\")\n",
    "\n",
    "    def guess(self, letter):\n",
    "        letter = letter.lower()        \n",
    "\n",
    "        if len(letter) != 1 or not letter.isalpha():\n",
    "            print(\"Будь ласка, введіть тільки одну літеру.\")\n",
    "            return False            \n",
    "        if letter in self._guessed_letters:\n",
    "            print(f\"Ви вже писали літеру '{letter}'. Спробуйте іншу.\")\n",
    "            return letter in self._secret_word\n",
    "\n",
    "        self._guessed_letters.add(letter)\n",
    "        return letter in self._secret_word\n",
    "    \n",
    "    def display(self):\n",
    "        display_word = \"\"\n",
    "        for letter in self._secret_word:\n",
    "            if letter in self._guessed_letters:\n",
    "                display_word += letter + \" \"\n",
    "            else:\n",
    "                display_word += \"_ \"\n",
    "        \n",
    "        print(f\"\\nСлово: {display_word}\")\n",
    "        used_letters = \", \".join(sorted(list(self._guessed_letters)))\n",
    "        print(f\"Використані літери: [ {used_letters} ]\")\n",
    "    \n",
    "    def _is_won(self):\n",
    "        return set(self._secret_word) <= self._guessed_letters\n",
    "\n",
    "    def play(self, word_to_guess):\n",
    "        self.set_word(word_to_guess)\n",
    "        attempts = 0\n",
    "        \n",
    "        while not self._is_won():\n",
    "            attempts += 1\n",
    "            print(f\"\\n--- Спроба №: {attempts} ---\")\n",
    "            self.display()\n",
    "            \n",
    "            user_letter = input(\"Введіть вашу літеру: \")            \n",
    "            if self.guess(user_letter):\n",
    "                print(\"Правильно! Така літера є в слові.\")\n",
    "            else:\n",
    "                 if len(user_letter) == 1 and user_letter.isalpha():\n",
    "                    print(\"На жаль, такої літери немає.\")\n",
    "\n",
    "        print(\"\\n\" + \"=\"*35)\n",
    "        self.display()\n",
    "        print(f\"ВІТАЮ! Ви вгадали слово '{self._secret_word.upper()}'! \")\n",
    "        print(f\"Кількість ваших спроб: {attempts}\")\n",
    "        print(\"=\"*35)\n",
    "\n",
    "# --- Демонстрація гри ---\n",
    "if __name__ == \"__main__\":\n",
    "    game = WordGame()\n",
    "    game.play(\"Програмування\")"
   ]
  },
  {
   "cell_type": "markdown",
   "id": "65403945-7468-4ff2-bd1b-dd6f2dbca9ee",
   "metadata": {},
   "source": [
    "# Завдання 9. Клас “Менеджер задач”\n",
    "- Опис:\n",
    "    - Створи клас Task з полями: title, description, priority.\n",
    "    - Створи клас TaskManager, який зберігає список задач (Task):\n",
    "        - add_task()\n",
    "        - remove_task()\n",
    "        - sort_by_priority()\n",
    "        - show_tasks()"
   ]
  },
  {
   "cell_type": "code",
   "execution_count": 41,
   "id": "7027af90-24cf-4861-8a63-81a73d77544d",
   "metadata": {},
   "outputs": [
    {
     "name": "stdout",
     "output_type": "stream",
     "text": [
      "\n",
      "--- Ваш список задач ---\n",
      "Список порожній!\n",
      "--------------------------\n",
      "\n",
      " Задача 'Терміновий дзвінок' успішно додана.\n",
      " Задача 'Купити хліба' успішно додана.\n",
      " Задача 'Полити квіти' успішно додана.\n",
      " Задача 'Вивчити Jupyter' успішно додана.\n",
      "\n",
      "--- Ваш список задач ---\n",
      "1. [Пріоритет: 5] Терміновий дзвінок: Погасити кредит\n",
      "2. [Пріоритет: 3] Купити хліба: Зайти в магазин після роботи\n",
      "3. [Пріоритет: 1] Полити квіти: Не забути про фікус\n",
      "4. [Пріоритет: 4] Вивчити Jupyter: Зробити завдання №1-2\n",
      "--------------------------\n",
      "\n",
      " Задачі відсортовано за пріоритетом.\n",
      "\n",
      "--- Ваш список задач ---\n",
      "1. [Пріоритет: 5] Терміновий дзвінок: Погасити кредит\n",
      "2. [Пріоритет: 4] Вивчити Jupyter: Зробити завдання №1-2\n",
      "3. [Пріоритет: 3] Купити хліба: Зайти в магазин після роботи\n",
      "4. [Пріоритет: 1] Полити квіти: Не забути про фікус\n",
      "--------------------------\n",
      "\n",
      " Задачу 'Купити хліба' видалено.\n",
      " Помилка: Задачу з назвою 'Подивитись серіал' не знайдено.\n",
      "\n",
      "--- Ваш список задач ---\n",
      "1. [Пріоритет: 5] Терміновий дзвінок: Погасити кредит\n",
      "2. [Пріоритет: 4] Вивчити Jupyter: Зробити завдання №1-2\n",
      "3. [Пріоритет: 1] Полити квіти: Не забути про фікус\n",
      "--------------------------\n",
      "\n"
     ]
    }
   ],
   "source": [
    "class Task:\n",
    "    def __init__(self, title, description, priority):\n",
    "        self.title = title\n",
    "        self.description = description\n",
    "        self.priority = priority\n",
    "\n",
    "    def __str__(self):\n",
    "        return f\"[Пріоритет: {self.priority}] {self.title}: {self.description}\"\n",
    "\n",
    "class TaskManager:\n",
    "    def __init__(self):\n",
    "        self._tasks = []\n",
    "\n",
    "    def add_task(self, task):\n",
    "        if isinstance(task, Task):\n",
    "            self._tasks.append(task)\n",
    "            print(f\" Задача '{task.title}' успішно додана.\")\n",
    "        else:\n",
    "            print(\" Помилка: щось пішло не так.\")\n",
    "\n",
    "    def show_tasks(self):\n",
    "        print(\"\\n--- Ваш список задач ---\")\n",
    "        if not self._tasks:\n",
    "            print(\"Список порожній!\")\n",
    "        else:\n",
    "            for i, task in enumerate(self._tasks, 1):\n",
    "                print(f\"{i}. {task}\")\n",
    "        print(\"--------------------------\\n\")\n",
    "\n",
    "    def remove_task(self, task_title):\n",
    "        task_to_remove = None\n",
    "        for task in self._tasks:\n",
    "            if task.title == task_title:\n",
    "                task_to_remove = task\n",
    "                break       \n",
    "        if task_to_remove:\n",
    "            self._tasks.remove(task_to_remove)\n",
    "            print(f\" Задачу '{task_title}' видалено.\")\n",
    "        else:\n",
    "            print(f\" Помилка: Задачу з назвою '{task_title}' не знайдено.\")\n",
    "\n",
    "    def sort_by_priority(self):\n",
    "        self._tasks.sort(key=lambda task: task.priority, reverse=True)\n",
    "        print(\" Задачі відсортовано за пріоритетом.\")\n",
    "\n",
    "\n",
    "# --- Демонстрація ---\n",
    "if __name__ == \"__main__\":\n",
    "    manager = TaskManager()\n",
    "    manager.show_tasks()\n",
    "\n",
    "    task1 = Task(\"Купити хліба\", \"Зайти в магазин після роботи\", 3)\n",
    "    task2 = Task(\"Терміновий дзвінок\", \"Погасити кредит\", 5)\n",
    "    task3 = Task(\"Вивчити Jupyter\", \"Зробити завдання №1-2\", 4)\n",
    "    task4 = Task(\"Полити квіти\", \"Не забути про фікус\", 1)\n",
    "    \n",
    "    manager.add_task(task2)\n",
    "    manager.add_task(task1)\n",
    "    manager.add_task(task4)\n",
    "    manager.add_task(task3)\n",
    "    manager.show_tasks()\n",
    "\n",
    "    manager.sort_by_priority()\n",
    "    manager.show_tasks()\n",
    "\n",
    "    manager.remove_task(\"Купити хліба\")\n",
    "    manager.remove_task(\"Подивитись серіал\")    #Щоб провірити помилку\n",
    "    manager.show_tasks()"
   ]
  },
  {
   "cell_type": "markdown",
   "id": "a3d5c08a-de3a-4391-afe3-3da8ced13d11",
   "metadata": {},
   "source": [
    "# Завдання 10. Клас “Менеджер банківських транзакцій”\n",
    "- Опис:\n",
    "    - Створи клас TransactionManager, який керує транзакціями між рахунками:\n",
    "        - accounts — словник {id: balance}\n",
    "        - transactions — список транзакцій {from, to, amount}\n",
    "        - Методи:\n",
    "            - add_account(id, balance)\n",
    "            - transfer(from, to, amount)\n",
    "            - get_balance(id)\n",
    "            - transaction_history(account_id=None)\n",
    "            - richest_account()"
   ]
  },
  {
   "cell_type": "code",
   "execution_count": 42,
   "id": "14a720f2-0723-4a86-8d9e-7457fc0359ef",
   "metadata": {},
   "outputs": [
    {
     "name": "stdout",
     "output_type": "stream",
     "text": [
      " Менеджер транзакцій успішно створено.\n",
      "\n",
      "--- 1. Створення рахунків ---\n",
      " Створено рахунок 'UA001' з балансом 10000.00 грн.\n",
      " Створено рахунок 'UA002' з балансом 500.00 грн.\n",
      " Створено рахунок 'UA003' з балансом 15000.00 грн.\n",
      " Помилка: Рахунок з ID 'UA001' вже існує.\n",
      "\n",
      "--- 2. Перевірка балансів ---\n",
      "Баланс UA001: 10000.00 грн\n",
      "Баланс UA003: 15000.00 грн\n",
      "\n",
      "--- 3. Проведення транзакцій ---\n",
      " Успішний переказ 1500.00 грн з 'UA001' на 'UA002'.\n",
      " Успішний переказ 3000.00 грн з 'UA003' на 'UA001'.\n",
      " Транзакція не вдалася: Недостатньо коштів на рахунку 'UA002'.\n",
      "\n",
      "--- 4. Перевірка балансів після транзакцій ---\n",
      "Новий баланс UA001: 11500.00 грн\n",
      "Новий баланс UA002: 2000.00 грн\n",
      "Новий баланс UA003: 12000.00 грн\n",
      "\n",
      "--- 5. Історія транзакцій ---\n",
      "Всі транзакції:\n",
      "  - {'з рахунку': 'UA001', 'на рахунок': 'UA002', 'сума коштів': 1500}\n",
      "  - {'з рахунку': 'UA003', 'на рахунок': 'UA001', 'сума коштів': 3000}\n",
      "\n",
      "Історія для рахунку UA001:\n",
      "  - {'з рахунку': 'UA001', 'на рахунок': 'UA002', 'сума коштів': 1500}\n",
      "  - {'з рахунку': 'UA003', 'на рахунок': 'UA001', 'сума коштів': 3000}\n",
      "\n",
      "--- 6. Пошук найбагатшого клієнта ---\n",
      " Найбільший баланс на рахунку 'UA003': 12000.00 грн.\n"
     ]
    }
   ],
   "source": [
    "class TransactionManager:\n",
    "    def __init__(self):\n",
    "        self._accounts = {}\n",
    "        self._transactions = []\n",
    "        print(\" Менеджер транзакцій успішно створено.\")\n",
    "\n",
    "    def add_account(self, account_id, initial_balance=0.0):\n",
    "        if account_id in self._accounts:\n",
    "            print(f\" Помилка: Рахунок з ID '{account_id}' вже існує.\")\n",
    "            return False\n",
    "        if initial_balance < 0:\n",
    "            print(\" Помилка: Початковий баланс не може бути від'ємним.\")\n",
    "            return False\n",
    "        self._accounts[account_id] = initial_balance\n",
    "        print(f\" Створено рахунок '{account_id}' з балансом {initial_balance:.2f} грн.\")\n",
    "        return True\n",
    "\n",
    "    def transfer(self, from_id, to_id, amount):\n",
    "        if from_id not in self._accounts or to_id not in self._accounts:\n",
    "            print(f\" Транзакція не відбулася: Один з рахунків ('{from_id}' або '{to_id}') не існує.\")\n",
    "            return False\n",
    "        if amount <= 0:\n",
    "            print(\" Транзакція не вдалася: Сума переказу повинна бути додатною.\")\n",
    "            return False\n",
    "        if self._accounts[from_id] < amount:\n",
    "            print(f\" Транзакція не вдалася: Недостатньо коштів на рахунку '{from_id}'.\")\n",
    "            return False\n",
    "        self._accounts[from_id] -= amount\n",
    "        self._accounts[to_id] += amount\n",
    "        transaction_record = {\"з рахунку\": from_id, \"на рахунок\": to_id, \"сума коштів\": amount}\n",
    "        self._transactions.append(transaction_record)\n",
    "        print(f\" Успішний переказ {amount:.2f} грн з '{from_id}' на '{to_id}'.\")\n",
    "        return True\n",
    "\n",
    "    def get_balance(self, account_id):\n",
    "        balance = self._accounts.get(account_id)\n",
    "        if balance is not None:\n",
    "            return balance\n",
    "        else:\n",
    "            print(f\" Рахунок '{account_id}' не знайдено.\")\n",
    "            return None\n",
    "\n",
    "    def transaction_history(self, account_id=None):\n",
    "        if account_id is None:\n",
    "            return self._transactions\n",
    "        if account_id not in self._accounts:\n",
    "            print(f\" Рахунок '{account_id}' не знайдено.\")\n",
    "            return []\n",
    "        history = [t for t in self._transactions if t['з рахунку'] == account_id or t['на рахунок'] == account_id]\n",
    "        return history\n",
    "\n",
    "    def richest_account(self):\n",
    "        if not self._accounts:\n",
    "            return None, None\n",
    "        richest_id = max(self._accounts, key=self._accounts.get)\n",
    "        max_balance = self._accounts[richest_id]\n",
    "        return richest_id, max_balance\n",
    "\n",
    "\n",
    "# --- Демонстрація ---\n",
    "if __name__ == \"__main__\":\n",
    "    manager = TransactionManager()\n",
    "\n",
    "    print(\"\\n--- 1. Створення рахунків ---\")\n",
    "    manager.add_account(\"UA001\", 10_000)\n",
    "    manager.add_account(\"UA002\", 500)\n",
    "    manager.add_account(\"UA003\", 15_000)\n",
    "    manager.add_account(\"UA001\")    #Щоб провірити помилку\n",
    "\n",
    "    print(\"\\n--- 2. Перевірка балансів ---\")\n",
    "    print(f\"Баланс UA001: {manager.get_balance('UA001'):.2f} грн\")\n",
    "    print(f\"Баланс UA003: {manager.get_balance('UA003'):.2f} грн\")\n",
    "\n",
    "    print(\"\\n--- 3. Проведення транзакцій ---\")\n",
    "    manager.transfer(\"UA001\", \"UA002\", 1_500)\n",
    "    manager.transfer(\"UA003\", \"UA001\", 3_000)\n",
    "    manager.transfer(\"UA002\", \"UA003\", 5_000)    #Щоб провірити помилку\n",
    "\n",
    "    print(\"\\n--- 4. Перевірка балансів після транзакцій ---\")\n",
    "    print(f\"Новий баланс UA001: {manager.get_balance('UA001'):.2f} грн\")\n",
    "    print(f\"Новий баланс UA002: {manager.get_balance('UA002'):.2f} грн\")\n",
    "    print(f\"Новий баланс UA003: {manager.get_balance('UA003'):.2f} грн\")\n",
    "    \n",
    "    print(\"\\n--- 5. Історія транзакцій ---\")\n",
    "    print(\"Всі транзакції:\")\n",
    "    all_history = manager.transaction_history()\n",
    "    for trans in all_history:\n",
    "        print(f\"  - {trans}\")\n",
    "        \n",
    "    print(\"\\nІсторія для рахунку UA001:\")\n",
    "    ua001_history = manager.transaction_history(\"UA001\")\n",
    "    for trans in ua001_history:\n",
    "        print(f\"  - {trans}\")\n",
    "\n",
    "    print(\"\\n--- 6. Пошук найбагатшого клієнта ---\")\n",
    "    acc_id, balance = manager.richest_account()\n",
    "    if acc_id:\n",
    "        print(f\" Найбільший баланс на рахунку '{acc_id}': {balance:.2f} грн.\")"
   ]
  },
  {
   "cell_type": "code",
   "execution_count": null,
   "id": "44dd1643-a674-4b1d-8acc-4590f6ef7c39",
   "metadata": {},
   "outputs": [],
   "source": []
  }
 ],
 "metadata": {
  "kernelspec": {
   "display_name": "Python 3 (ipykernel)",
   "language": "python",
   "name": "python3"
  },
  "language_info": {
   "codemirror_mode": {
    "name": "ipython",
    "version": 3
   },
   "file_extension": ".py",
   "mimetype": "text/x-python",
   "name": "python",
   "nbconvert_exporter": "python",
   "pygments_lexer": "ipython3",
   "version": "3.13.1"
  }
 },
 "nbformat": 4,
 "nbformat_minor": 5
}
