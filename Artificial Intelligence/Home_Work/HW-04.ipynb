{
 "cells": [
  {
   "cell_type": "markdown",
   "id": "419f2732-4859-44bb-8349-3c84a5c91bfa",
   "metadata": {},
   "source": [
    "# 1. Аналіз розподілу оцінок\n",
    "Є 30 результатів тесту учнів. \n",
    "  - Потрібно:\n",
    "    - Знайти середнє, медіану і моду.\n",
    "    - Пояснити, чи є у вибірці викиди (дуже низькі чи високі бали)."
   ]
  },
  {
   "cell_type": "code",
   "execution_count": 10,
   "id": "c8d0f845-4e5d-41e8-95c1-b2d7bda1407d",
   "metadata": {},
   "outputs": [
    {
     "name": "stdout",
     "output_type": "stream",
     "text": [
      "--- Основні статистичні показники ---\n",
      "Середнє арифметичне: 82.33\n",
      "Медіана: 84.5\n",
      "Мода: ModeResult(mode=array([85]), count=array([4]))\n",
      "\n",
      "--- Аналіз симетрії розподілу ---\n",
      "Середнє (82.33) < Медіани (84.5).\n",
      "Висновок: Розподіл має негативну (лівосторонню) асиметрію.\n",
      "Це означає, що у вибірці є низькі значення (викиди), які 'тягнуть' середнє арифметичне вниз.\n"
     ]
    }
   ],
   "source": [
    "import pandas as pd\n",
    "import numpy as np\n",
    "from scipy import stats\n",
    "\n",
    "scores = [85, 92, 78, 88, 95, 45, 80, 75, 85, 90, 82, 71, 99, 86, 79, 88, 93, 85, 81, 77, 98, 52, 75, 83, 90, 85, 84, 91, 78, 80]\n",
    "\n",
    "# 1\n",
    "mean_value = np.mean(scores)\n",
    "# 2\n",
    "median_value = np.median(scores)\n",
    "# 3\n",
    "mode_result = stats.mode(scores, keepdims=True)\n",
    "\n",
    "print(\"--- Основні статистичні показники ---\")\n",
    "print(f\"Середнє арифметичне: {mean_value:.2f}\")\n",
    "print(f\"Медіана: {median_value}\")\n",
    "print(f\"Мода: {mode_result}\")\n",
    "\n",
    "print(\"\\n--- Аналіз симетрії розподілу ---\")\n",
    "if mean_value < median_value:\n",
    "    print(f\"Середнє ({mean_value:.2f}) < Медіани ({median_value}).\")\n",
    "    print(\"Висновок: Розподіл має негативну (лівосторонню) асиметрію.\")\n",
    "    print(\"Це означає, що у вибірці є низькі значення (викиди), які 'тягнуть' середнє арифметичне вниз.\")\n",
    "elif mean_value > median_value:\n",
    "    print(f\"Середнє ({mean_value:.2f}) > Медіани ({median_value}).\")\n",
    "    print(\"Висновок: Розподіл має позитивну (правосторонню) асиметрію.\")\n",
    "else:\n",
    "    print(f\"Середнє ({mean_value:.2f}) ≈ Медіани ({median_value}).\")\n",
    "    print(\"Висновок: Розподіл близький до симетричного.\")"
   ]
  },
  {
   "cell_type": "markdown",
   "id": "3d87ee28-9673-4ff7-a831-c7a154c6029b",
   "metadata": {},
   "source": [
    "# 2. Перевірка рівномірності\n",
    "Під час рекламної кампанії збирали кількість кліків кожні 10 хвилин протягом 5 годин.\n",
    "Потрібно:\n",
    "- Визначити, чи можна припустити, що кліки розподілені рівномірно у часі.\n",
    "- Пояснити, що це означає для ефективності реклами.    "
   ]
  },
  {
   "cell_type": "code",
   "execution_count": 36,
   "id": "42bd8ed0-05fd-4729-8535-9bb67511f41e",
   "metadata": {},
   "outputs": [
    {
     "name": "stdout",
     "output_type": "stream",
     "text": [
      "--- Наші дані про кліки ---\n",
      "   interval  clicks\n",
      "0         1      10\n",
      "1         2      12\n",
      "2         3      11\n",
      "3         4      15\n",
      "4         5      14\n",
      "--- 1. Статистика кліків ---\n",
      "Середнє значення (Mean): 18.83 кліків за інтервал\n",
      "Медіана (Median): 18.0 кліків\n",
      "Мода (Mode): 11 кліків (зустрічається 3 рази)\n",
      "Дисперсія (Variance): 47.87\n",
      "Середньоквадратичне відхилення (Std): 6.92\n",
      "Висчновок: Середньоквадратичне відхилення (6.92) досить велике порівняно з середнім (18.83),\n",
      "що вказує на значну мінливість (нестабільність) кількості кліків у часі.\n"
     ]
    }
   ],
   "source": [
    "import pandas as pd\n",
    "import numpy as np\n",
    "from scipy.stats import chisquare\n",
    "\n",
    "\n",
    "observed_clicks = [\n",
    "    10, 12, 11, 15, 14, 18, # Година 1\n",
    "    22, 25, 23, 26, 28, 25, # Година 2\n",
    "    30, 32, 29, 27, 26, 24, # Година 3\n",
    "    20, 18, 19, 16, 14, 15, # Година 4\n",
    "    13, 11, 10, 9, 12, 11   # Година 5\n",
    "]\n",
    "\n",
    "df = pd.DataFrame({\n",
    "    'interval': range(1, 31),\n",
    "    'clicks': observed_clicks\n",
    "})\n",
    "\n",
    "print(\"--- Наші дані про кліки ---\")\n",
    "print(df.head())\n",
    "\n",
    "\n",
    "# --- Розрахунок описових статистик ---\n",
    "mean_clicks = np.mean(observed_clicks)\n",
    "median_clicks = np.median(observed_clicks)\n",
    "mode_clicks = stats.mode(observed_clicks, keepdims=True)\n",
    "variance_clicks = np.var(observed_clicks)\n",
    "std_clicks = np.std(observed_clicks)\n",
    "\n",
    "print(\"--- 1. Статистика кліків ---\")\n",
    "print(f\"Середнє значення (Mean): {mean_clicks:.2f} кліків за інтервал\")\n",
    "print(f\"Медіана (Median): {median_clicks} кліків\")\n",
    "print(f\"Мода (Mode): {mode_clicks.mode[0]} кліків (зустрічається {mode_clicks.count[0]} рази)\")\n",
    "print(f\"Дисперсія (Variance): {variance_clicks:.2f}\")\n",
    "print(f\"Середньоквадратичне відхилення (Std): {std_clicks:.2f}\")\n",
    "print(f\"Висчновок: Середньоквадратичне відхилення ({std_clicks:.2f}) досить велике порівняно з середнім ({mean_clicks:.2f}),\" \n",
    "        \"\\nщо вказує на значну мінливість (нестабільність) кількості кліків у часі.\")"
   ]
  },
  {
   "cell_type": "code",
   "execution_count": 24,
   "id": "e77d5db2-a96d-475c-9ab2-ab7ca1d63e2e",
   "metadata": {},
   "outputs": [
    {
     "name": "stdout",
     "output_type": "stream",
     "text": [
      "\n",
      "--- Результати тесту Хі-квадрат ---\n",
      "Статистика Хі-квадрат: 76.26\n",
      "P-значення (p-value): 0.0000\n",
      "\n",
      "Поріг значущості (альфа): 0.05\n",
      "\n",
      "Висновок: P-значення < альфа. Різниця між реальністю та ідеалом є статистично значущою.\n",
      "Відповідь: НІ, ми не можемо припустити, що кліки розподілені рівномірно.\n"
     ]
    }
   ],
   "source": [
    "# Проводимо Хі-квадрат тест\n",
    "# f_obs - спостережувані частоти, f_exp - очікувані частоти\n",
    "chi2_statistic, p_value = chisquare(f_obs=df['clicks'], f_exp=expected_clicks_per_interval)\n",
    "\n",
    "print(\"\\n--- Результати тесту Хі-квадрат ---\")\n",
    "print(f\"Статистика Хі-квадрат: {chi2_statistic:.2f}\")\n",
    "print(f\"P-значення (p-value): {p_value:.4f}\")\n",
    "\n",
    "alpha = 0.05\n",
    "print(f\"\\nПоріг значущості (альфа): {alpha}\")\n",
    "\n",
    "if p_value < alpha:\n",
    "    print(\"\\nВисновок: P-значення < альфа. Різниця між реальністю та ідеалом є статистично значущою.\")\n",
    "    print(\"Відповідь: НІ, ми не можемо припустити, що кліки розподілені рівномірно.\")\n",
    "else:\n",
    "    print(\"\\nВисновок: P-значення >= альфа. У нас немає достатньо доказів, щоб відкинути ідею про рівномірність.\")\n",
    "    print(\"Відповідь: ТАК, можна припустити, що кліки розподілені рівномірно (відхилення не є значущими).\")"
   ]
  },
  {
   "cell_type": "markdown",
   "id": "57b5f82d-9ff7-434e-9111-81a4db1d1dda",
   "metadata": {},
   "source": [
    "## Фінальний висновок: що це означає для ефективності реклами?\n",
    "На основі нашого прикладу (де p-value буде дуже малим):\n",
    "- Що ми побачили? Розподіл кліків нерівномірний. \n",
    "Графік чітко показує, що найбільша активність була в середині періоду (друга та третя година), а на початку і в кінці — значно менша.\n",
    "- Що це означає для ефективності реклами?\n",
    "Існують \"гарячі години\": Ефективність вашої реклами сильно залежить від часу доби. Є пікові періоди, коли аудиторія найбільш активна і готова клікати.\n",
    "Оптимізація бюджету: Замість того, щоб \"розпиляти\" рекламний бюджет рівномірно протягом дня, його варто концентрувати саме в ці пікові періоди (в нашому випадку, на другу та третю годину спостережень). Це дозволить отримати більше кліків за ті самі гроші.\n",
    "Планування контенту: Нові акції, найважливіші оголошення чи пости варто публікувати саме перед початком цих \"гарячих годин\", щоб отримати максимальне охоплення.\n",
    "- Якби результат був іншим (розподіл рівномірний):\n",
    "Це означало б, що ефективність реклами не залежить від часу доби. Ваша цільова аудиторія активна однаково протягом всього періоду. В такому випадку рекламний бюджет можна розподіляти рівномірно, а час публікації контенту не має вирішального значення."
   ]
  },
  {
   "cell_type": "markdown",
   "id": "67515b41-1255-47ad-979e-d8720ab3e1bc",
   "metadata": {},
   "source": [
    "# 3. Визначення типу розподілу по даним\n",
    "Є список часу (у хвилинах), який користувачі проводять на сайті.\n",
    "- Завдання:\n",
    "    - Обчислити середнє і медіану.\n",
    "    - Порівняти ці значення та зробити висновок про тип розподілу (наприклад, нормальний чи зсунутий)."
   ]
  },
  {
   "cell_type": "code",
   "execution_count": 40,
   "id": "c00a66fc-1ab9-4250-8d42-4d987112cd11",
   "metadata": {},
   "outputs": [
    {
     "name": "stdout",
     "output_type": "stream",
     "text": [
      "--- Статистичний аналіз часу на сайті ---\n",
      "Середній час на сайті (Mean): 12.39 хв.\n",
      "Медіанний час на сайті (Median): 6.00 хв.\n",
      "\n",
      "--- Порівняння та висновок про розподіл ---\n",
      "Висновок: Середнє (12.39) > Медіани (6.00), розподіл має позитивну (правостороння) асиметрію.\n",
      "Це означає, що більшість користувачів проводять на сайті відносно небагато часу (близько 6 хв), але є невелика кількість користувачів, які залишаються дуже довго.\n"
     ]
    }
   ],
   "source": [
    "import numpy as np\n",
    "\n",
    "time_spent = [\n",
    "    1, 2, 2, 3, 3,\n",
    "    3, 4, 4, 5, 5, \n",
    "    6, 6, 7, 8, 9, \n",
    "    10, 12, 15, 20, \n",
    "    25, 30, 45, 60\n",
    "]\n",
    "\n",
    "# 1\n",
    "mean_time = np.mean(time_spent)\n",
    "# 2\n",
    "median_time = np.median(time_spent)\n",
    "\n",
    "print(\"--- Статистичний аналіз часу на сайті ---\")\n",
    "print(f\"Середній час на сайті (Mean): {mean_time:.2f} хв.\")\n",
    "print(f\"Медіанний час на сайті (Median): {median_time:.2f} хв.\")\n",
    "\n",
    "# Висновок\n",
    "print(\"\\n--- Порівняння та висновок про розподіл ---\")\n",
    "if mean_time > median_time:\n",
    "    asymmetry_type = \"позитивну (правостороння) асиметрію\"\n",
    "    explanation = (\n",
    "        \"Це означає, що більшість користувачів проводять на сайті відносно небагато часу \"\n",
    "        f\"(близько {median_time:.0f} хв), але є невелика кількість користувачів, які залишаються дуже довго.\"        \n",
    "    )\n",
    "elif mean_time < median_time:\n",
    "    asymmetry_type = \"негативну (лівостороння) асиметрію\"\n",
    "    explanation = (\n",
    "        \"Це означає, що більшість користувачів проводять на сайті багато часу, \"\n",
    "        \"але є невелика кількість дуже коротких сесій.\"\n",
    "    )\n",
    "else:\n",
    "    asymmetry_type = \"симетричну асиметрію\"\n",
    "    explanation = \"Це означає, що час розподілений рівномірно навколо центрального значення.\"\n",
    "\n",
    "print(f\"Висновок: Середнє ({mean_time:.2f}) > Медіани ({median_time:.2f}), розподіл має {asymmetry_type}.\")\n",
    "print(explanation)\n"
   ]
  },
  {
   "cell_type": "markdown",
   "id": "f1f81a22-4962-4db0-99bd-4c7a93071894",
   "metadata": {},
   "source": [
    "# 4. Аналіз кореляції між двома показниками\n",
    "Дані про кількість тренувань на тиждень і рівень фізичної форми (шкала 1–10).\n",
    "- Потрібно:\n",
    "    - Обчислити коефіцієнт кореляції.\n",
    "    - Пояснити, що означає його значення (напрямок і сила зв’язку).\n"
   ]
  },
  {
   "cell_type": "code",
   "execution_count": 41,
   "id": "8d491d81-9e05-42de-9973-26652c942047",
   "metadata": {},
   "outputs": [
    {
     "name": "stdout",
     "output_type": "stream",
     "text": [
      "--- Аналіз кореляції ---\n",
      "Коефіцієнт кореляції Пірсона (r): 0.9537\n",
      "P-значення (p-value): 0.0000\n",
      "\n",
      "--- Інтерпретація коефіцієнта кореляції ---\n",
      "Напрямок зв'язку: позитивний (прямий).\n",
      "Це означає, що зі збільшенням кількості тренувань на тиждень, рівень фізичної форми також має тенденцію до зростання.\n",
      "\n",
      "Сила зв'язку: дуже сильна.\n",
      "Значення 0.95 вказує на дуже міцний зв'язок між змінними.\n"
     ]
    }
   ],
   "source": [
    "import numpy as np\n",
    "from scipy import stats\n",
    "\n",
    "# Кількість тренувань за тиждень.\n",
    "workouts_per_week = [1, 2, 2, 3, 3, 4, 4, 5, 5, 5, 6, 7, 7, 8]\n",
    "\n",
    "# Рівень фізичної форми за шкалою від 1 до 10 (суб'єктивна оцінка).\n",
    "fitness_level = [3, 4, 5, 5, 6, 6, 7, 7, 8, 8, 9, 8, 9, 10]\n",
    "\n",
    "\n",
    "# Коефіцієнт кореляції Пірсона\n",
    "correlation_coefficient, p_value = stats.pearsonr(workouts_per_week, fitness_level)\n",
    "\n",
    "print(\"--- Аналіз кореляції ---\")\n",
    "print(f\"Коефіцієнт кореляції Пірсона (r): {correlation_coefficient:.4f}\")\n",
    "print(f\"P-значення (p-value): {p_value:.4f}\")\n",
    "\n",
    "\n",
    "# Висновок\n",
    "print(\"\\n--- Інтерпретація коефіцієнта кореляції ---\")\n",
    "\n",
    "# Аналіз напрямку зв'язку\n",
    "if correlation_coefficient > 0:\n",
    "    direction = \"позитивний (прямий)\"\n",
    "    direction_explanation = \"Це означає, що зі збільшенням кількості тренувань на тиждень, рівень фізичної форми також має тенденцію до зростання.\"\n",
    "elif correlation_coefficient < 0:\n",
    "    direction = \"негативний (зворотний)\"\n",
    "    direction_explanation = \"Це означає, що зі збільшенням кількості тренувань, рівень форми має тенденцію до зниження (що малоймовірно).\"\n",
    "else:\n",
    "    direction = \"відсутній\"\n",
    "    direction_explanation = \"Це означалє, що між цими двома показниками немає лінійного зв'язку.\"\n",
    "\n",
    "print(f\"Напрямок зв'язку: {direction}.\")\n",
    "print(direction_explanation)\n",
    "\n",
    "# Аналіз сили зв'язку\n",
    "strength = \"невизначена\"\n",
    "if abs(correlation_coefficient) >= 0.9:\n",
    "    strength = \"дуже сильна\"\n",
    "elif abs(correlation_coefficient) >= 0.7:\n",
    "    strength = \"сильна\"\n",
    "elif abs(correlation_coefficient) >= 0.5:\n",
    "    strength = \"помірна\"\n",
    "elif abs(correlation_coefficient) >= 0.3:\n",
    "    strength = \"слабка\"\n",
    "else:\n",
    "    strength = \"дуже слабка або відсутня\"\n",
    "\n",
    "print(f\"\\nСила зв'язку: {strength}.\")\n",
    "print(f\"Значення {correlation_coefficient:.2f} вказує на дуже міцний зв'язок між змінними.\")\n"
   ]
  },
  {
   "cell_type": "markdown",
   "id": "98b49093-15bc-4bbc-bef1-cfdfca378a2d",
   "metadata": {},
   "source": [
    "# 5. Оцінка трендів у продажах\n",
    "Є щомісячні дані про продажі товару за рік.\n",
    "- Завдання:\n",
    "  - Знайти середній місячний обсяг продажів.\n",
    "    - Визначити, чи є тенденція зростання або зниження.\n",
    "    - Пояснити, як це допоможе у плануванні."
   ]
  },
  {
   "cell_type": "code",
   "execution_count": 45,
   "id": "0cfa113e-f3b3-43a7-a2bc-dc9af6693ac6",
   "metadata": {},
   "outputs": [
    {
     "name": "stdout",
     "output_type": "stream",
     "text": [
      "--- Аналіз продажів ---\n",
      "Середній місячний обсяг продажів: 30.92 тис. одиниць\n",
      "\n",
      "--- Аналіз тренду ---\n",
      "Коефіцієнт кореляції між часом та продажами: 0.9812\n",
      "Висновок: Існує чітка тенденція до зростання продажів.\n"
     ]
    }
   ],
   "source": [
    "import numpy as np\n",
    "from scipy import stats\n",
    "\n",
    "\n",
    "# Місяці року\n",
    "months = np.arange(1, 13)\n",
    "# Щомісячні продажі товару\n",
    "sales = [20, 22, 25, 24, 28, 30, 31, 35, 33, 38, 40, 45]\n",
    "average_sales = np.mean(sales)\n",
    "\n",
    "print(\"--- Аналіз продажів ---\")\n",
    "print(f\"Середній місячний обсяг продажів: {average_sales:.2f} тис. одиниць\")\n",
    "\n",
    "# Кореляцію між часом (місяцями) і продажами.\n",
    "trend_correlation, p_value = stats.pearsonr(months, sales)\n",
    "\n",
    "print(\"\\n--- Аналіз тренду ---\")\n",
    "print(f\"Коефіцієнт кореляції між часом та продажами: {trend_correlation:.4f}\")\n",
    "\n",
    "# Висновок\n",
    "trend_type = \"\"\n",
    "if trend_correlation > 0.5:\n",
    "    trend_type = \"чітка тенденція до зростання продажів\"\n",
    "elif trend_correlation < -0.5:\n",
    "    trend_type = \"чітка тенденція до зниження продажів\"\n",
    "else:\n",
    "    trend_type = \"відсутність чіткого лінійного тренду\"\n",
    "print(f\"Висновок: Існує {trend_type}.\")"
   ]
  },
  {
   "cell_type": "markdown",
   "id": "03a52368-e1de-426d-a2ca-d1a9c6504ced",
   "metadata": {},
   "source": [
    "# 6. Оцінка ризику активів\n",
    "- Інвестор має дані про прибуток двох активів: середній прибуток і дисперсію.\n",
    "    - Завдання:\n",
    "        - Визначити, який актив більш ризикований.\n",
    "        - Пояснити, що таке дисперсія і як вона пов’язана з ризиком."
   ]
  },
  {
   "cell_type": "code",
   "execution_count": 47,
   "id": "736dea7a-7acb-4828-a141-2b25ac6fb416",
   "metadata": {},
   "outputs": [
    {
     "name": "stdout",
     "output_type": "stream",
     "text": [
      "--- Аналіз ризику двох активів ---\n",
      "Актив А: Середній прибуток = 10.0%, Стандартне відхилення (ризик) = 2.0%\n",
      "Актив B: Середній прибуток = 12.0%, Стандартне відхилення (ризик) = 5.0%\n",
      "\n",
      "--- Визначення ризику ---\n",
      "Висновок: Актив B є більш ризикованим, оскільки його стандартне відхилення (і дисперсія) значно вище.\n"
     ]
    }
   ],
   "source": [
    "import numpy as np\n",
    "from scipy import stats\n",
    "\n",
    "# Вхідні дані від інвестора:\n",
    "# Середній річний прибуток (у відсотках)\n",
    "mean_profit_A = 10.0\n",
    "mean_profit_B = 12.0\n",
    "\n",
    "# Дисперсія прибутку (квадрат відсотків)\n",
    "variance_A = 4.0\n",
    "variance_B = 25.0\n",
    "\n",
    "\n",
    "# Стандартне відхилення\n",
    "std_dev_A = np.sqrt(variance_A)\n",
    "std_dev_B = np.sqrt(variance_B)\n",
    "\n",
    "print(\"--- Аналіз ризику двох активів ---\")\n",
    "print(f\"Актив А: Середній прибуток = {mean_profit_A}%, Стандартне відхилення (ризик) = {std_dev_A}%\")\n",
    "print(f\"Актив B: Середній прибуток = {mean_profit_B}%, Стандартне відхилення (ризик) = {std_dev_B}%\")\n",
    "\n",
    "\n",
    "print(\"\\n--- Визначення ризику ---\")\n",
    "more_risky_asset = \"\"\n",
    "if std_dev_A > std_dev_B:\n",
    "    more_risky_asset = \"Актив А\"\n",
    "else:\n",
    "    more_risky_asset = \"Актив B\"\n",
    "\n",
    "print(f\"Висновок: {more_risky_asset} є більш ризикованим, оскільки його стандартне відхилення (і дисперсія) значно вище.\")"
   ]
  },
  {
   "cell_type": "markdown",
   "id": "308615dd-1b3f-4e1c-8c7b-2c401c26e5a6",
   "metadata": {},
   "source": [
    "# 7. Виявлення аномалій у транзакціях\n",
    "- У базі даних транзакцій помічені незвичайні значення суми платежів.\n",
    "    - Потрібно:\n",
    "        - Обчислити середнє і стандартне відхилення по сумам.\n",
    "        - Визначити, які платежі можна вважати аномальними (з великою відстанню від середнього)."
   ]
  },
  {
   "cell_type": "code",
   "execution_count": 52,
   "id": "a188a721-f059-4dae-bf27-e1a73e38d362",
   "metadata": {},
   "outputs": [
    {
     "name": "stdout",
     "output_type": "stream",
     "text": [
      "--- Статистика по транзакціях ---\n",
      "Середня сума транзакції (Mean): 600.00 грн.\n",
      "Стандартне відхилення (Std Dev): 1254.91 грн.\n",
      "\n",
      "--- Виявлення аномалій (поріг Z-оцінки > 3.0) ---\n",
      "Знайдено 2 аномальних транзакцій:\n",
      "  - 5000.00 грн.\n",
      "  - 4500.00 грн.\n"
     ]
    }
   ],
   "source": [
    "import numpy as np\n",
    "\n",
    "\n",
    "# Список сум фінансових транзакцій (у гривнях).\n",
    "transactions = [\n",
    "    150, 250, 300, 220, 180, 210, \n",
    "    230, 190, 260, 310, 280, 200,\n",
    "    170, 240, 290, 5000, 270, 220, \n",
    "    250, 10, 160, 300, 210, 4500\n",
    "]\n",
    "# 1 Перетворюємо у NumPy масив\n",
    "transactions = np.array(transactions)\n",
    "# 2\n",
    "mean_transaction = np.mean(transactions)\n",
    "# 3\n",
    "std_transaction = np.std(transactions)\n",
    "\n",
    "print(\"--- Статистика по транзакціях ---\")\n",
    "print(f\"Середня сума транзакції (Mean): {mean_transaction:.2f} грн.\")\n",
    "print(f\"Стандартне відхилення (Std Dev): {std_transaction:.2f} грн.\")\n",
    "\n",
    "# Визначення аномалій за допомогою Z-оцінки (Правило 3-сигм) ---\n",
    "# Формула: Z = (значення - середнє) / стандартне_відхилення\n",
    "z_scores = (transactions - mean_transaction) / std_transaction\n",
    "\n",
    "# Встановлюємо поріг, аномалії\n",
    "threshold = 3.0\n",
    "\n",
    "# Знаходимо аномалії\n",
    "anomalies = transactions[np.abs(z_scores) > threshold]\n",
    "normal_transactions = transactions[np.abs(z_scores) <= threshold]\n",
    "\n",
    "print(f\"\\n--- Виявлення аномалій (поріг Z-оцінки > {threshold}) ---\")\n",
    "if len(anomalies) > 0:\n",
    "    print(f\"Знайдено {len(anomalies)} аномальних транзакцій:\")\n",
    "    for anomaly in anomalies:\n",
    "        print(f\"  - {anomaly:.2f} грн.\")\n",
    "else:\n",
    "    print(\"Аномальних транзакцій за даним критерієм не знайдено.\")"
   ]
  },
  {
   "cell_type": "markdown",
   "id": "52d4e3ad-e00c-466e-9f9d-2d3071f30993",
   "metadata": {},
   "source": [
    "# 8. Оцінка ефективності рекламної кампанії\n",
    "- Порівняти середні продажі за місяць до і після запуску реклами.\n",
    "- Потрібно:\n",
    "    - Обчислити середні для обох періодів.\n",
    "    - Оцінити, чи є зміни статистично значущими (пояснити ідею тесту)."
   ]
  },
  {
   "cell_type": "code",
   "execution_count": 54,
   "id": "95e4e477-63de-4743-960d-034b42c2f8f3",
   "metadata": {},
   "outputs": [
    {
     "name": "stdout",
     "output_type": "stream",
     "text": [
      "--- Аналіз середніх продажів ---\n",
      "Середні продажі до реклами: 52.10 одиниць/день\n",
      "Середні продажі після реклами: 62.10 одиниць/день\n",
      "Різниця: +10.00 одиниць/день\n",
      "\n",
      "Спостереження: Після запуску реклами середні продажі виросли. Але чи є це зростання статистично значущим?\n",
      "\n",
      "--- Результати Незалежного t-тесту ---\n",
      "T-статистика: 11.54\n",
      "P-значення (p-value): 1.1839937907676973e-16\n",
      "\n",
      "--- Висновок про статистичну значущість ---\n",
      "Оскільки p-value (1.18e-16) < 0.05, ми відхиляємо нульову гіпотезу.\n",
      "Висновок: Зростання продажів є статистично значущим. Рекламна кампанія, ймовірно, була ефективною.\n"
     ]
    },
    {
     "data": {
      "image/png": "[encoded data removed]",
      "text/plain": [
       "<Figure size 1200x700 with 1 Axes>"
      ]
     },
     "metadata": {},
     "output_type": "display_data"
    }
   ],
   "source": [
    "# --- Крок 1: Імпорт бібліотек та визначення даних ---\n",
    "import numpy as np\n",
    "import matplotlib.pyplot as plt\n",
    "import seaborn as sns\n",
    "from scipy import stats\n",
    "\n",
    "# Вхідні дані: щоденні продажі (в одиницях)\n",
    "# 30 днів до запуску рекламної кампанії\n",
    "sales_before = [\n",
    "    50, 55, 48, 52, 53, 58, 45, 50, 51, 54, 49, 56, 53, 50, 55,\n",
    "    52, 47, 59, 51, 54, 50, 48, 56, 53, 55, 51, 50, 57, 52, 49\n",
    "]\n",
    "\n",
    "# 30 днів після запуску рекламної кампанії\n",
    "sales_after = [\n",
    "    60, 65, 58, 62, 63, 68, 55, 60, 61, 64, 59, 66, 63, 60, 65,\n",
    "    62, 57, 69, 61, 64, 60, 58, 66, 63, 65, 61, 60, 67, 62, 59\n",
    "]\n",
    "# Перетворюємо у NumPy масиви\n",
    "sales_before = np.array(sales_before)\n",
    "sales_after = np.array(sales_after)\n",
    "\n",
    "\n",
    "# --- Крок 2: Обчислення середніх значень для обох періодів ---\n",
    "mean_before = np.mean(sales_before)\n",
    "mean_after = np.mean(sales_after)\n",
    "\n",
    "print(\"--- Аналіз середніх продажів ---\")\n",
    "print(f\"Середні продажі до реклами: {mean_before:.2f} одиниць/день\")\n",
    "print(f\"Середні продажі після реклами: {mean_after:.2f} одиниць/день\")\n",
    "print(f\"Різниця: +{mean_after - mean_before:.2f} одиниць/день\")\n",
    "print(\"\\nСпостереження: Після запуску реклами середні продажі виросли. Але чи є це зростання статистично значущим?\")\n",
    "\n",
    "\n",
    "# --- Крок 3: Оцінка статистичної значущості (Незалежний t-тест) ---\n",
    "# Ми використовуємо t-тест для двох незалежних вибірок, оскільки\n",
    "# продажі в один день не залежать від продажів в інший.\n",
    "# Тест повертає два значення:\n",
    "# 1. t-statistic: Показує, наскільки велика різниця між середніми відносно мінливості даних.\n",
    "# 2. p-value: Ймовірність отримати таку або ще більшу різницю чисто випадково,\n",
    "#    якби насправді реклама не мала жодного ефекту.\n",
    "t_statistic, p_value = stats.ttest_ind(sales_after, sales_before)\n",
    "\n",
    "# Встановлюємо поріг значущості (альфа)\n",
    "alpha = 0.05\n",
    "\n",
    "print(f\"\\n--- Результати Незалежного t-тесту ---\")\n",
    "print(f\"T-статистика: {t_statistic:.2f}\")\n",
    "print(f\"P-значення (p-value): {p_value}\") # Виводимо у науковій нотації\n",
    "\n",
    "print(\"\\n--- Висновок про статистичну значущість ---\")\n",
    "if p_value < alpha:\n",
    "    print(f\"Оскільки p-value ({p_value:.2e}) < {alpha}, ми відхиляємо нульову гіпотезу.\")\n",
    "    print(\"Висновок: Зростання продажів є статистично значущим. Рекламна кампанія, ймовірно, була ефективною.\")\n",
    "else:\n",
    "    print(f\"Оскільки p-value ({p_value:.2e}) > {alpha}, ми не можемо відхилити нульову гіпотезу.\")\n",
    "    print(\"Висновок: У нас немає достатньо статистичних доказів, щоб стверджувати, що рекламна кампанія була ефективною. Різниця могла бути випадковою.\")\n",
    "\n",
    "\n",
    "# --- Крок 4: Візуалізація для наочності ---\n",
    "sns.set_style(\"whitegrid\")\n",
    "plt.figure(figsize=(12, 7))\n",
    "\n",
    "# Графіки щільності розподілу для обох періодів\n",
    "sns.kdeplot(sales_before, fill=True, color='skyblue', label='Продажі ДО реклами')\n",
    "sns.kdeplot(sales_after, fill=True, color='lightcoral', label='Продажі ПІСЛЯ реклами')\n",
    "\n",
    "# Вертикальні лінії для середніх\n",
    "plt.axvline(mean_before, color='blue', linestyle='--', label=f'Середнє ДО ({mean_before:.2f})')\n",
    "plt.axvline(mean_after, color='red', linestyle='--', label=f'Середнє ПІСЛЯ ({mean_after:.2f})')\n",
    "\n",
    "# Налаштування графіку\n",
    "plt.title('Порівняння розподілу продажів до та після рекламної кампанії', fontsize=16)\n",
    "plt.xlabel('Щоденні продажі (одиниць)')\n",
    "plt.ylabel('Щільність')\n",
    "plt.legend()\n",
    "plt.tight_layout()\n",
    "\n",
    "plt.show()"
   ]
  },
  {
   "cell_type": "code",
   "execution_count": null,
   "id": "35cfa93c-e13b-4da6-a529-4e03319f51e9",
   "metadata": {},
   "outputs": [],
   "source": []
  }
 ],
 "metadata": {
  "kernelspec": {
   "display_name": "Python 3 (ipykernel)",
   "language": "python",
   "name": "python3"
  },
  "language_info": {
   "codemirror_mode": {
    "name": "ipython",
    "version": 3
   },
   "file_extension": ".py",
   "mimetype": "text/x-python",
   "name": "python",
   "nbconvert_exporter": "python",
   "pygments_lexer": "ipython3",
   "version": "3.13.1"
  }
 },
 "nbformat": 4,
 "nbformat_minor": 5
}
