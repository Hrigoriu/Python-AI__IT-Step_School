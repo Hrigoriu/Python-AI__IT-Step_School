{
 "cells": [
  {
   "cell_type": "code",
   "execution_count": 1,
   "id": "03ba5ce8-938d-4219-8237-3e08291c2318",
   "metadata": {
    "id": "03ba5ce8-938d-4219-8237-3e08291c2318"
   },
   "outputs": [],
   "source": [
    "import numpy as np"
   ]
  },
  {
   "cell_type": "code",
   "execution_count": 4,
   "id": "8e173212-5a79-437b-a7b6-5346e439de82",
   "metadata": {
    "id": "8e173212-5a79-437b-a7b6-5346e439de82"
   },
   "outputs": [],
   "source": [
    "a = np.array([1, 2, 3])  "
   ]
  },
  {
   "cell_type": "markdown",
   "id": "eb5aac84-6891-446a-9a67-d5f4309f2ba6",
   "metadata": {
    "id": "eb5aac84-6891-446a-9a67-d5f4309f2ba6"
   },
   "source": [
    "\n",
    "\n",
    "![](http://jalammar.github.io/images/numpy/create-numpy-array-1.png)"
   ]
  },
  {
   "cell_type": "code",
   "execution_count": 5,
   "id": "a5dd201a-213d-417a-8542-e32ceb55a687",
   "metadata": {
    "colab": {
     "base_uri": "https://localhost:8080/"
    },
    "id": "a5dd201a-213d-417a-8542-e32ceb55a687",
    "outputId": "30ee7332-7ad5-45ec-d797-c29d17bb7815"
   },
   "outputs": [
    {
     "name": "stdout",
     "output_type": "stream",
     "text": [
      "<class 'numpy.ndarray'> (3,) 1 2 3\n",
      "[5 2 3]\n"
     ]
    }
   ],
   "source": [
    "print(type(a), a.shape, a[0], a[1], a[2])\n",
    "a[0] = 5\n",
    "print(a)"
   ]
  },
  {
   "cell_type": "markdown",
   "id": "234030fa-8140-4f6e-8b8e-2a94ad931778",
   "metadata": {
    "id": "234030fa-8140-4f6e-8b8e-2a94ad931778"
   },
   "source": [
    "![](http://jalammar.github.io/images/numpy/numpy-array-create-2d.png)\n",
    "\n",
    "![](http://jalammar.github.io/images/numpy/numpy-3d-array.png)"
   ]
  },
  {
   "cell_type": "code",
   "execution_count": 6,
   "id": "3ff3db12-c0d1-4895-8ba7-200bbdf41d0f",
   "metadata": {
    "colab": {
     "base_uri": "https://localhost:8080/"
    },
    "id": "3ff3db12-c0d1-4895-8ba7-200bbdf41d0f",
    "outputId": "055a0004-7af0-4bf1-a416-163280957496"
   },
   "outputs": [
    {
     "name": "stdout",
     "output_type": "stream",
     "text": [
      "[[1 2]\n",
      " [3 4]]\n"
     ]
    }
   ],
   "source": [
    "b = np.array([[1,2],[3,4]]) \n",
    "print(b)"
   ]
  },
  {
   "cell_type": "code",
   "execution_count": 7,
   "id": "3898a66e-cde5-4749-980c-f72e5e453a10",
   "metadata": {
    "colab": {
     "base_uri": "https://localhost:8080/"
    },
    "id": "3898a66e-cde5-4749-980c-f72e5e453a10",
    "outputId": "79bd2219-66b3-4336-9011-626e3086159b"
   },
   "outputs": [
    {
     "name": "stdout",
     "output_type": "stream",
     "text": [
      "(2, 2)\n"
     ]
    }
   ],
   "source": [
    "print(b.shape)"
   ]
  },
  {
   "cell_type": "markdown",
   "id": "59994140-982d-44d4-b735-c368cf11ab8c",
   "metadata": {
    "id": "59994140-982d-44d4-b735-c368cf11ab8c"
   },
   "source": [
    "![](http://jalammar.github.io/images/numpy/create-numpy-array-ones-zeros-random.png)"
   ]
  },
  {
   "cell_type": "markdown",
   "id": "f5cd30f4-91ac-421a-b25a-8cfbddb518c7",
   "metadata": {
    "id": "f5cd30f4-91ac-421a-b25a-8cfbddb518c7"
   },
   "source": [
    "![](http://jalammar.github.io/images/numpy/numpy-matrix-ones-zeros-random.png)\n",
    "\n",
    "![](http://jalammar.github.io/images/numpy/numpy-3d-array-creation.png)"
   ]
  },
  {
   "cell_type": "code",
   "execution_count": 8,
   "id": "61dddfaf-a5eb-4d3d-a59d-85ea7e18d71a",
   "metadata": {
    "colab": {
     "base_uri": "https://localhost:8080/"
    },
    "id": "61dddfaf-a5eb-4d3d-a59d-85ea7e18d71a",
    "outputId": "e474feee-8ac0-42c5-f9b0-dfae82478bba"
   },
   "outputs": [
    {
     "name": "stdout",
     "output_type": "stream",
     "text": [
      "[[0. 0.]\n",
      " [0. 0.]]\n"
     ]
    }
   ],
   "source": [
    "a = np.zeros((2,2))  \n",
    "print(a)"
   ]
  },
  {
   "cell_type": "code",
   "execution_count": 9,
   "id": "aab64565-d940-42ae-915b-58c564384d48",
   "metadata": {
    "colab": {
     "base_uri": "https://localhost:8080/"
    },
    "id": "aab64565-d940-42ae-915b-58c564384d48",
    "outputId": "8222bcb2-5695-468d-b110-67f878a0f908"
   },
   "outputs": [
    {
     "name": "stdout",
     "output_type": "stream",
     "text": [
      "[[1. 1.]]\n"
     ]
    }
   ],
   "source": [
    "b = np.ones((1,2))  \n",
    "print(b)"
   ]
  },
  {
   "cell_type": "code",
   "execution_count": 10,
   "id": "121ece5c-b965-44a1-9643-44c4b29e1c5a",
   "metadata": {
    "colab": {
     "base_uri": "https://localhost:8080/"
    },
    "id": "121ece5c-b965-44a1-9643-44c4b29e1c5a",
    "outputId": "ee69238d-bef1-41b8-f02b-92f2599a8ba1"
   },
   "outputs": [
    {
     "name": "stdout",
     "output_type": "stream",
     "text": [
      "[[7 7]\n",
      " [7 7]]\n"
     ]
    }
   ],
   "source": [
    "c = np.full((2,2), 7) \n",
    "print(c)"
   ]
  },
  {
   "cell_type": "code",
   "execution_count": 11,
   "id": "6f0c09f0-3894-47fd-a349-4ecc04fb9aad",
   "metadata": {
    "colab": {
     "base_uri": "https://localhost:8080/"
    },
    "id": "6f0c09f0-3894-47fd-a349-4ecc04fb9aad",
    "outputId": "ee160a2a-578e-4349-da97-da8becb4ac4d"
   },
   "outputs": [
    {
     "name": "stdout",
     "output_type": "stream",
     "text": [
      "[[0.05598676 0.06124249]\n",
      " [0.93403281 0.41305955]]\n"
     ]
    }
   ],
   "source": [
    "e = np.random.random((2,2)) \n",
    "print(e)"
   ]
  },
  {
   "cell_type": "code",
   "execution_count": 12,
   "id": "db3897cd-fc78-447d-9da6-1e72c291c2af",
   "metadata": {
    "id": "64c38479-b55e-4dfc-8474-90d4782c0722"
   },
   "outputs": [
    {
     "name": "stdout",
     "output_type": "stream",
     "text": [
      "Size: 4\n"
     ]
    }
   ],
   "source": [
    "print(\"Size:\", e.size)"
   ]
  },
  {
   "cell_type": "code",
   "execution_count": 13,
   "id": "0d72e147-8010-4424-a984-934d97c6a7ee",
   "metadata": {
    "id": "64c38479-b55e-4dfc-8474-90d4782c0722"
   },
   "outputs": [
    {
     "name": "stdout",
     "output_type": "stream",
     "text": [
      "Itemsize: 8\n"
     ]
    }
   ],
   "source": [
    "print(\"Itemsize:\", e.itemsize)"
   ]
  },
  {
   "cell_type": "code",
   "execution_count": 14,
   "id": "f22420c9-44cf-4858-a905-decf52d8d088",
   "metadata": {
    "id": "64c38479-b55e-4dfc-8474-90d4782c0722"
   },
   "outputs": [
    {
     "name": "stdout",
     "output_type": "stream",
     "text": [
      "[[1 2 3]\n",
      " [4 5 6]]\n",
      "[[1 2]\n",
      " [3 4]\n",
      " [5 6]]\n"
     ]
    }
   ],
   "source": [
    "a = np.array([[1, 2, 3],[4, 5, 6]])\n",
    "print(a)\n",
    "reshaped = a.reshape(3, 2)\n",
    "print(reshaped)"
   ]
  },
  {
   "cell_type": "code",
   "execution_count": 15,
   "id": "1c6208b2-5503-4fb0-9902-439bf83df7b0",
   "metadata": {
    "colab": {
     "base_uri": "https://localhost:8080/"
    },
    "id": "1c6208b2-5503-4fb0-9902-439bf83df7b0",
    "outputId": "54166f05-803f-42bc-9319-535befde43e3"
   },
   "outputs": [
    {
     "name": "stdout",
     "output_type": "stream",
     "text": [
      "[10 15 20 25 30 35 40 45]\n"
     ]
    }
   ],
   "source": [
    "f = np.arange(10,50,5)  \n",
    "print(f)"
   ]
  },
  {
   "cell_type": "code",
   "execution_count": 16,
   "id": "9e23b524-d187-4da2-bc91-6fb6ea401764",
   "metadata": {
    "colab": {
     "base_uri": "https://localhost:8080/"
    },
    "id": "9e23b524-d187-4da2-bc91-6fb6ea401764",
    "outputId": "2c58d976-394a-4c91-81d7-5b3bbd28a741"
   },
   "outputs": [
    {
     "name": "stdout",
     "output_type": "stream",
     "text": [
      "[0.   0.25 0.5  0.75 1.  ]\n"
     ]
    }
   ],
   "source": [
    "g = np.linspace(0., 1., num=5)\n",
    "print(g)"
   ]
  },
  {
   "cell_type": "code",
   "execution_count": null,
   "id": "8f18be1e-aaf6-4434-83fd-beb4a5f12375",
   "metadata": {
    "colab": {
     "base_uri": "https://localhost:8080/"
    },
    "id": "8f18be1e-aaf6-4434-83fd-beb4a5f12375",
    "outputId": "1fdd6994-a0ba-41ab-d3e7-2f4734b25d31"
   },
   "outputs": [
    {
     "name": "stdout",
     "output_type": "stream",
     "text": [
      "a=array([1, 2, 3])\n",
      "\n",
      "b=array([4, 5, 6])\n",
      "\n"
     ]
    },
    {
     "data": {
      "text/plain": [
       "array([[1, 2, 3],\n",
       "       [4, 5, 6]])"
      ]
     },
     "execution_count": 19,
     "metadata": {},
     "output_type": "execute_result"
    }
   ],
   "source": [
    "a = np.array([1, 2, 3])\n",
    "b = np.array([4, 5, 6])\n",
    "\n",
    "print(f\"{a=}\\n\")\n",
    "print(f\"{b=}\\n\")\n",
    "np.vstack((a,b))"
   ]
  },
  {
   "cell_type": "code",
   "execution_count": null,
   "id": "1b2c6801-7af0-4b5d-a6cc-8e95997c50b4",
   "metadata": {
    "colab": {
     "base_uri": "https://localhost:8080/"
    },
    "id": "1b2c6801-7af0-4b5d-a6cc-8e95997c50b4",
    "outputId": "88816a0d-4cd2-4913-9835-c7b42362c886"
   },
   "outputs": [
    {
     "name": "stdout",
     "output_type": "stream",
     "text": [
      "a=array([[7],\n",
      "       [8],\n",
      "       [9]])\n",
      "\n",
      "b=array([[4],\n",
      "       [5],\n",
      "       [6]])\n",
      "\n"
     ]
    },
    {
     "data": {
      "text/plain": [
       "array([[7, 4],\n",
       "       [8, 5],\n",
       "       [9, 6]])"
      ]
     },
     "execution_count": 17,
     "metadata": {},
     "output_type": "execute_result"
    }
   ],
   "source": [
    "a = np.array([[7], [8], [9]])\n",
    "b = np.array([[4], [5], [6]])\n",
    "\n",
    "print(f\"{a=}\\n\")\n",
    "print(f\"{b=}\\n\")\n",
    "np.hstack((a,b))"
   ]
  },
  {
   "cell_type": "code",
   "execution_count": 16,
   "id": "2a71407a-81f3-4b62-ad16-68625127c552",
   "metadata": {
    "colab": {
     "base_uri": "https://localhost:8080/"
    },
    "id": "1b2c6801-7af0-4b5d-a6cc-8e95997c50b4",
    "outputId": "88816a0d-4cd2-4913-9835-c7b42362c886"
   },
   "outputs": [
    {
     "name": "stdout",
     "output_type": "stream",
     "text": [
      "[1, 2, 3, 4, 1, 2, 3, 4]\n",
      "[2 4 6 8]\n"
     ]
    }
   ],
   "source": [
    "py_list = [1, 2, 3, 4]\n",
    "np_array = np.array([1, 2, 3, 4])\n",
    "print(py_list * 2)\n",
    "print(np_array * 2)"
   ]
  },
  {
   "cell_type": "markdown",
   "id": "e5fcad1c-e41e-49cf-b525-d1346167594a",
   "metadata": {
    "id": "e5fcad1c-e41e-49cf-b525-d1346167594a"
   },
   "source": [
    "### Індекси"
   ]
  },
  {
   "cell_type": "markdown",
   "id": "83f93d78-5e62-45d1-a37f-3083dd808190",
   "metadata": {
    "id": "83f93d78-5e62-45d1-a37f-3083dd808190"
   },
   "source": [
    "\n",
    "Numpy пропонує кілька способів індексування в масиви."
   ]
  },
  {
   "cell_type": "markdown",
   "id": "054e77f3-7369-426c-99ee-79ef4ad3252a",
   "metadata": {
    "id": "054e77f3-7369-426c-99ee-79ef4ad3252a"
   },
   "source": [
    "Ми можемо індексувати та використовувати розділення `slice` для масивів numpy усіма способами, як зі списками Python:\n",
    "\n",
    "![](http://jalammar.github.io/images/numpy/numpy-array-slice.png)\n",
    "\n",
    "І ви можете індексувати та розділяти масиви numpy у кількох вимірах. Якщо розрізати масив із кількома вимірами, ви повинні вказати зріз для кожного виміру:\n",
    "\n",
    "![](http://jalammar.github.io/images/numpy/numpy-matrix-indexing.png)"
   ]
  },
  {
   "cell_type": "markdown",
   "id": "ebb38476-c368-49d4-87cf-ac5c57c7eca8",
   "metadata": {
    "id": "ebb38476-c368-49d4-87cf-ac5c57c7eca8"
   },
   "source": [
    "Під час роботи з масивами numpy часто корисно отримати *індекси* (а не лише значення) елементів масиву, які відповідають певним умовам. Є кілька функцій numpy, які ви точно захочете запам’ятати:\n",
    "\n",
    "-   [`argmax`](https://numpy.org/doc/stable/reference/generated/numpy.argmax.html) (індекс максимального елементу)\n",
    "-   [`argmin`](https://numpy.org/doc/stable/reference/generated/numpy.argmin.html) (індекс мінімального елементу)\n",
    "-   [`argsort`](https://numpy.org/doc/stable/reference/generated/numpy.argsort.html) (відсортований список індексів за значенням елемента в порядку зростання)\n",
    "-   [`where`](https://numpy.org/doc/stable/reference/generated/numpy.where.html) (індекси елементів, які відповідають певній умові)"
   ]
  },
  {
   "cell_type": "code",
   "execution_count": 6,
   "id": "c26e1c0c-8c12-4df9-99cd-9614e36b64ae",
   "metadata": {
    "colab": {
     "base_uri": "https://localhost:8080/"
    },
    "id": "c26e1c0c-8c12-4df9-99cd-9614e36b64ae",
    "outputId": "39f4b557-d88b-4d59-8189-df6a247828b8"
   },
   "outputs": [
    {
     "name": "stdout",
     "output_type": "stream",
     "text": [
      "2\n",
      "3\n",
      "[3 0 4 5 6 1 2 7]\n",
      "[7 2 1 6 5 4 0 3]\n",
      "[1 2 6 7]\n"
     ]
    }
   ],
   "source": [
    "a = np.array([1, 8, 9, -3, 2, 4, 7, 9])\n",
    "\n",
    "print(np.argmax(a))\n",
    "\n",
    "print(np.argmin(a))\n",
    "\n",
    "print(np.argsort(a))\n",
    "\n",
    "print(np.argsort(a)[::-1])\n",
    "\n",
    "print(np.where(a > 5)[0])"
   ]
  },
  {
   "cell_type": "markdown",
   "id": "7ab927d6-f7d6-4b6f-ad1d-60451d55b670",
   "metadata": {
    "id": "7ab927d6-f7d6-4b6f-ad1d-60451d55b670"
   },
   "source": [
    "### Типи даних"
   ]
  },
  {
   "cell_type": "code",
   "execution_count": 17,
   "id": "2b021a07-6390-4216-931d-06bf28a996dc",
   "metadata": {
    "colab": {
     "base_uri": "https://localhost:8080/"
    },
    "id": "2b021a07-6390-4216-931d-06bf28a996dc",
    "outputId": "ab52e3be-ac25-4664-9a75-fd44c94fef00"
   },
   "outputs": [
    {
     "name": "stdout",
     "output_type": "stream",
     "text": [
      "int64 float64 int64\n"
     ]
    }
   ],
   "source": [
    "x = np.array([1, 2])  \n",
    "y = np.array([1.0, 2.0])  \n",
    "z = np.array([1, 2], dtype=np.int64)  \n",
    "\n",
    "print(x.dtype, y.dtype, z.dtype)"
   ]
  },
  {
   "cell_type": "markdown",
   "id": "cb3c901b-b344-400d-9e0f-b2fa70e28e4d",
   "metadata": {
    "id": "cb3c901b-b344-400d-9e0f-b2fa70e28e4d"
   },
   "source": [
    "### Дії з масивами"
   ]
  },
  {
   "cell_type": "code",
   "execution_count": null,
   "id": "92314cea-6001-4207-b40e-d0208a1597e2",
   "metadata": {
    "id": "92314cea-6001-4207-b40e-d0208a1597e2"
   },
   "outputs": [],
   "source": [
    "a = np.random.random(10000000)"
   ]
  },
  {
   "cell_type": "code",
   "execution_count": null,
   "id": "33a4e0ed-340e-436c-882a-df2224c8af21",
   "metadata": {
    "colab": {
     "base_uri": "https://localhost:8080/"
    },
    "id": "33a4e0ed-340e-436c-882a-df2224c8af21",
    "outputId": "c7365a7a-9f99-4dc6-9514-26f69b0d91e4"
   },
   "outputs": [
    {
     "name": "stdout",
     "output_type": "stream",
     "text": [
      "CPU times: user 10.5 ms, sys: 0 ns, total: 10.5 ms\n",
      "Wall time: 22.7 ms\n"
     ]
    }
   ],
   "source": [
    "%%time\n",
    "x = np.sum(a)"
   ]
  },
  {
   "cell_type": "code",
   "execution_count": null,
   "id": "7252032c-bc87-4124-bb9d-0d2fada3e226",
   "metadata": {
    "colab": {
     "base_uri": "https://localhost:8080/"
    },
    "id": "7252032c-bc87-4124-bb9d-0d2fada3e226",
    "outputId": "2e5b63cb-e739-49f2-ee5e-7f48e7b40494"
   },
   "outputs": [
    {
     "name": "stdout",
     "output_type": "stream",
     "text": [
      "CPU times: user 1.89 s, sys: 3.3 ms, total: 1.9 s\n",
      "Wall time: 1.91 s\n"
     ]
    }
   ],
   "source": [
    "%%time\n",
    "x = 0\n",
    "for element in a:\n",
    "  x = x + element"
   ]
  },
  {
   "cell_type": "markdown",
   "id": "604243cf-4411-44a3-9b25-789631caf959",
   "metadata": {
    "id": "604243cf-4411-44a3-9b25-789631caf959"
   },
   "source": [
    "\n",
    "Наприклад, ви можете виконати поелементне підсумовування двох масивів за допомогою оператора + або функції `add()`.\n",
    "\n",
    "![](http://jalammar.github.io/images/numpy/numpy-arrays-adding-1.png)\n",
    "\n",
    "![](http://jalammar.github.io/images/numpy/numpy-matrix-arithmetic.png)"
   ]
  },
  {
   "cell_type": "code",
   "execution_count": 18,
   "id": "e6d49bb6-ebfe-4416-8a7f-c1f5b77e5e8a",
   "metadata": {
    "colab": {
     "base_uri": "https://localhost:8080/"
    },
    "id": "e6d49bb6-ebfe-4416-8a7f-c1f5b77e5e8a",
    "outputId": "ab19e8b3-60c8-494b-e176-96d3773362f9"
   },
   "outputs": [
    {
     "name": "stdout",
     "output_type": "stream",
     "text": [
      "[[ 6.  8.]\n",
      " [10. 12.]]\n",
      "[[ 6.  8.]\n",
      " [10. 12.]]\n"
     ]
    }
   ],
   "source": [
    "x = np.array([[1,2],[3,4]], dtype=np.float64)\n",
    "y = np.array([[5,6],[7,8]], dtype=np.float64)\n",
    "\n",
    "print(x + y)\n",
    "print(np.add(x, y))"
   ]
  },
  {
   "cell_type": "markdown",
   "id": "66adf079-d0e8-4ceb-ae88-4e78447bb6d5",
   "metadata": {
    "id": "66adf079-d0e8-4ceb-ae88-4e78447bb6d5"
   },
   "source": [
    "І це також працює для інших операцій, а не лише для додавання:\n",
    "\n",
    "![](http://jalammar.github.io/images/numpy/numpy-array-subtract-multiply-divide.png)"
   ]
  },
  {
   "cell_type": "code",
   "execution_count": 20,
   "id": "83178bc8-6909-42ad-af86-1a7a76516a4c",
   "metadata": {
    "id": "83178bc8-6909-42ad-af86-1a7a76516a4c"
   },
   "outputs": [
    {
     "name": "stdout",
     "output_type": "stream",
     "text": [
      "[[-4. -4.]\n",
      " [-4. -4.]]\n",
      "[[-4. -4.]\n",
      " [-4. -4.]]\n"
     ]
    }
   ],
   "source": [
    "print(x - y)\n",
    "print(np.subtract(x, y))"
   ]
  },
  {
   "cell_type": "code",
   "execution_count": null,
   "id": "3bbca1af-53ab-44d7-a9df-e5a69463f715",
   "metadata": {
    "id": "3bbca1af-53ab-44d7-a9df-e5a69463f715"
   },
   "outputs": [],
   "source": [
    "print(x * y)\n",
    "print(np.multiply(x, y))"
   ]
  },
  {
   "cell_type": "code",
   "execution_count": null,
   "id": "e98baa36-56e0-4fdc-b371-ebe02e600e0f",
   "metadata": {
    "id": "e98baa36-56e0-4fdc-b371-ebe02e600e0f"
   },
   "outputs": [],
   "source": [
    "print(x / y)\n",
    "print(np.divide(x, y))"
   ]
  },
  {
   "cell_type": "code",
   "execution_count": 21,
   "id": "226ebb2f-a24c-4f22-ae1c-d4c5302882a8",
   "metadata": {
    "id": "226ebb2f-a24c-4f22-ae1c-d4c5302882a8",
    "scrolled": true
   },
   "outputs": [
    {
     "name": "stdout",
     "output_type": "stream",
     "text": [
      "[[1.         1.41421356]\n",
      " [1.73205081 2.        ]]\n"
     ]
    }
   ],
   "source": [
    "print(np.sqrt(x))"
   ]
  },
  {
   "cell_type": "markdown",
   "id": "d2125bff-5063-482e-97ac-f997665fe8a9",
   "metadata": {
    "id": "d2125bff-5063-482e-97ac-f997665fe8a9"
   },
   "source": [
    "![](http://jalammar.github.io/images/numpy/numpy-matrix-dot-product-1.png)"
   ]
  },
  {
   "cell_type": "code",
   "execution_count": 23,
   "id": "6e8eaf91-4f6a-4c82-b2a9-b4ab9c840554",
   "metadata": {
    "colab": {
     "base_uri": "https://localhost:8080/"
    },
    "id": "6e8eaf91-4f6a-4c82-b2a9-b4ab9c840554",
    "outputId": "1cb20ec4-9103-46f6-84b9-4c8d3dd74610"
   },
   "outputs": [
    {
     "name": "stdout",
     "output_type": "stream",
     "text": [
      "219\n",
      "219\n"
     ]
    }
   ],
   "source": [
    "x = np.array([[1,2],[3,4]])\n",
    "y = np.array([[5,6],[7,8]])\n",
    "\n",
    "v = np.array([9,10])\n",
    "w = np.array([11, 12])\n",
    "\n",
    "print(v.dot(w))\n",
    "print(np.dot(v, w))"
   ]
  },
  {
   "cell_type": "markdown",
   "id": "df7ccfe0-587f-46e6-83c4-6a6cc38ff1ea",
   "metadata": {
    "id": "df7ccfe0-587f-46e6-83c4-6a6cc38ff1ea"
   },
   "source": [
    "![](http://jalammar.github.io/images/numpy/numpy-matrix-aggregation-1.png)"
   ]
  },
  {
   "cell_type": "code",
   "execution_count": 25,
   "id": "66adf5e5-773e-48fd-aff1-b42cec7a0491",
   "metadata": {
    "id": "66adf5e5-773e-48fd-aff1-b42cec7a0491"
   },
   "outputs": [
    {
     "name": "stdout",
     "output_type": "stream",
     "text": [
      "6\n",
      "1\n",
      "21\n"
     ]
    }
   ],
   "source": [
    "x = np.array([[1, 2], [3, 4], [5, 6]])\n",
    "\n",
    "print(np.max(x)) \n",
    "print(np.min(x))  \n",
    "print(np.sum(x))  "
   ]
  },
  {
   "cell_type": "markdown",
   "id": "96121e02-4803-40ec-a8be-5c054519754d",
   "metadata": {
    "id": "96121e02-4803-40ec-a8be-5c054519754d"
   },
   "source": [
    "![](http://jalammar.github.io/images/numpy/numpy-matrix-aggregation-4.png)"
   ]
  },
  {
   "cell_type": "code",
   "execution_count": 7,
   "id": "c5b0a1f4-4a9e-4d6f-aec0-21473253cda3",
   "metadata": {
    "id": "c5b0a1f4-4a9e-4d6f-aec0-21473253cda3"
   },
   "outputs": [
    {
     "name": "stdout",
     "output_type": "stream",
     "text": [
      "[5 6]\n",
      "[2 5 6]\n"
     ]
    }
   ],
   "source": [
    "x = np.array([[1, 2], [5, 3], [4, 6]])\n",
    "\n",
    "print(np.max(x, axis=0))  \n",
    "print(np.max(x, axis=1))  "
   ]
  }
 ],
 "metadata": {
  "colab": {
   "include_colab_link": true,
   "provenance": [],
   "toc_visible": true
  },
  "kernelspec": {
   "display_name": "Python 3 (ipykernel)",
   "language": "python",
   "name": "python3"
  },
  "language_info": {
   "codemirror_mode": {
    "name": "ipython",
    "version": 3
   },
   "file_extension": ".py",
   "mimetype": "text/x-python",
   "name": "python",
   "nbconvert_exporter": "python",
   "pygments_lexer": "ipython3",
   "version": "3.13.1"
  }
 },
 "nbformat": 4,
 "nbformat_minor": 5
}
