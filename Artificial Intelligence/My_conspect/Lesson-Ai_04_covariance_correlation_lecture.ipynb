{
 "cells": [
  {
   "cell_type": "markdown",
   "id": "79e02847",
   "metadata": {},
   "source": [
    "# Коваріація та кореляція"
   ]
  },
  {
   "cell_type": "code",
   "execution_count": 8,
   "id": "c832ac10",
   "metadata": {},
   "outputs": [
    {
     "name": "stdout",
     "output_type": "stream",
     "text": [
      "Коваріаційна матриця:\n",
      "[[39.5  1.9]\n",
      " [ 1.9  0.1]]\n"
     ]
    }
   ],
   "source": [
    "import numpy as np\n",
    "\n",
    "x = [5, 7, 8, 15, 20]      # Вік дітей\n",
    "y = [1.5, 1.7, 1.9, 2.1, 2.3]  # Зріст\n",
    "\n",
    "cov_matrix = np.cov(x, y)\n",
    "print(\"Коваріаційна матриця:\")\n",
    "print(cov_matrix)"
   ]
  },
  {
   "cell_type": "code",
   "execution_count": 2,
   "id": "0b6fe4a0",
   "metadata": {},
   "outputs": [
    {
     "name": "stdout",
     "output_type": "stream",
     "text": [
      "Кореляційна матриця:\n",
      "[[1. 1.]\n",
      " [1. 1.]]\n"
     ]
    }
   ],
   "source": [
    "correlation = np.corrcoef(x, y)\n",
    "print(\"Кореляційна матриця:\")\n",
    "print(correlation)"
   ]
  },
  {
   "cell_type": "code",
   "execution_count": 3,
   "id": "3f719695",
   "metadata": {},
   "outputs": [
    {
     "name": "stdout",
     "output_type": "stream",
     "text": [
      "Коваріація:\n",
      "                 Години_навчання  Оцінка\n",
      "Години_навчання             2.50   18.75\n",
      "Оцінка                     18.75  142.50\n",
      "Кореляція:\n",
      "                 Години_навчання    Оцінка\n",
      "Години_навчання         1.000000  0.993399\n",
      "Оцінка                  0.993399  1.000000\n"
     ]
    }
   ],
   "source": [
    "import pandas as pd\n",
    "\n",
    "# Створимо DataFrame\n",
    "data = {\n",
    "    'Години_навчання': [1, 2, 3, 4, 5],\n",
    "    'Оцінка': [50, 55, 65, 70, 80]\n",
    "}\n",
    "df = pd.DataFrame(data)\n",
    "\n",
    "# Коваріація\n",
    "print(\"Коваріація:\")\n",
    "print(df.cov())\n",
    "\n",
    "# Кореляція\n",
    "print(\"Кореляція:\")\n",
    "print(df.corr())"
   ]
  },
  {
   "cell_type": "code",
   "execution_count": null,
   "id": "9c7e0d21-aae4-4339-bbd2-fdab074c9d6d",
   "metadata": {},
   "outputs": [],
   "source": []
  }
 ],
 "metadata": {
  "kernelspec": {
   "display_name": "Python 3 (ipykernel)",
   "language": "python",
   "name": "python3"
  },
  "language_info": {
   "codemirror_mode": {
    "name": "ipython",
    "version": 3
   },
   "file_extension": ".py",
   "mimetype": "text/x-python",
   "name": "python",
   "nbconvert_exporter": "python",
   "pygments_lexer": "ipython3",
   "version": "3.13.1"
  }
 },
 "nbformat": 4,
 "nbformat_minor": 5
}
