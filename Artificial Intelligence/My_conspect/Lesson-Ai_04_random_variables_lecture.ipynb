{
 "cells": [
  {
   "cell_type": "markdown",
   "id": "2c3af29f",
   "metadata": {},
   "source": [
    "## Рівномірний розподіл (Uniform Distribution)"
   ]
  },
  {
   "cell_type": "code",
   "execution_count": 1,
   "id": "167f6d92",
   "metadata": {},
   "outputs": [
    {
     "name": "stdout",
     "output_type": "stream",
     "text": [
      "Рівномірно вибрані числа (від 1 до 100): [18.51336284 81.65407046 21.31188421 47.36044275 83.53586081 16.30018276\n",
      " 37.00131728 93.19946717 42.41161492 95.15283776]\n"
     ]
    }
   ],
   "source": [
    "import numpy as np\n",
    "\n",
    "uniform_data = np.random.uniform(1, 100, size=10)\n",
    "print(\"Рівномірно вибрані числа (від 1 до 100):\", uniform_data)"
   ]
  },
  {
   "cell_type": "markdown",
   "id": "60b8d283",
   "metadata": {},
   "source": [
    "## Нормальний розподіл (Gaussian Distribution)"
   ]
  },
  {
   "cell_type": "code",
   "execution_count": 2,
   "id": "d4098554",
   "metadata": {},
   "outputs": [
    {
     "name": "stdout",
     "output_type": "stream",
     "text": [
      "Випадкові значення з нормального розподілу (зріст): [182.03066186 170.87114526 186.13187447 183.58934929 162.84787348\n",
      " 182.00543702 173.91193937 176.38677279 179.50916947 193.75397101]\n"
     ]
    }
   ],
   "source": [
    "normal_data = np.random.normal(loc=170, scale=10, size=10)\n",
    "print(\"Випадкові значення з нормального розподілу (зріст):\", normal_data)"
   ]
  },
  {
   "cell_type": "markdown",
   "id": "7479041f",
   "metadata": {},
   "source": [
    "## Розподіл Пуассона (Poisson Distribution)"
   ]
  },
  {
   "cell_type": "code",
   "execution_count": 3,
   "id": "4c51e564",
   "metadata": {},
   "outputs": [
    {
     "name": "stdout",
     "output_type": "stream",
     "text": [
      "Кількість подій за годину (λ=3): [7 5 6 5 5 1 4 3 2 1]\n"
     ]
    }
   ],
   "source": [
    "poisson_data = np.random.poisson(lam=3, size=10)\n",
    "print(\"Кількість подій за годину (λ=3):\", poisson_data)"
   ]
  },
  {
   "cell_type": "code",
   "execution_count": null,
   "id": "98d221a5-dcf1-4456-832c-3134eb32de93",
   "metadata": {},
   "outputs": [],
   "source": []
  }
 ],
 "metadata": {
  "kernelspec": {
   "display_name": "Python 3 (ipykernel)",
   "language": "python",
   "name": "python3"
  },
  "language_info": {
   "codemirror_mode": {
    "name": "ipython",
    "version": 3
   },
   "file_extension": ".py",
   "mimetype": "text/x-python",
   "name": "python",
   "nbconvert_exporter": "python",
   "pygments_lexer": "ipython3",
   "version": "3.13.1"
  }
 },
 "nbformat": 4,
 "nbformat_minor": 5
}
