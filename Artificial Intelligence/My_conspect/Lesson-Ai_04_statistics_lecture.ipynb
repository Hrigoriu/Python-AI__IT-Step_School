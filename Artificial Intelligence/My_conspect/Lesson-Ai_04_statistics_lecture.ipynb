{
 "cells": [
  {
   "cell_type": "markdown",
   "id": "19255e18",
   "metadata": {},
   "source": [
    "# Статистичні середні показники"
   ]
  },
  {
   "cell_type": "code",
   "execution_count": 3,
   "id": "a8728e26-c99d-48f1-be42-9f09a3a9bae6",
   "metadata": {},
   "outputs": [
    {
     "name": "stdout",
     "output_type": "stream",
     "text": [
      "Collecting scipy\n",
      "  Downloading scipy-1.15.3-cp313-cp313-win_amd64.whl.metadata (60 kB)\n",
      "Requirement already satisfied: numpy<2.5,>=1.23.5 in c:\\users\\user\\appdata\\local\\programs\\python\\python313\\lib\\site-packages (from scipy) (2.2.3)\n",
      "Downloading scipy-1.15.3-cp313-cp313-win_amd64.whl (41.0 MB)\n",
      "   ---------------------------------------- 0.0/41.0 MB ? eta -:--:--\n",
      "   - -------------------------------------- 1.0/41.0 MB 8.3 MB/s eta 0:00:05\n",
      "   --- ------------------------------------ 3.9/41.0 MB 10.3 MB/s eta 0:00:04\n",
      "   ----- ---------------------------------- 5.5/41.0 MB 9.2 MB/s eta 0:00:04\n",
      "   ------ --------------------------------- 7.1/41.0 MB 8.9 MB/s eta 0:00:04\n",
      "   -------- ------------------------------- 8.7/41.0 MB 8.7 MB/s eta 0:00:04\n",
      "   --------- ------------------------------ 10.2/41.0 MB 8.6 MB/s eta 0:00:04\n",
      "   ----------- ---------------------------- 12.1/41.0 MB 8.6 MB/s eta 0:00:04\n",
      "   ------------ --------------------------- 13.1/41.0 MB 8.1 MB/s eta 0:00:04\n",
      "   -------------- ------------------------- 14.4/41.0 MB 7.9 MB/s eta 0:00:04\n",
      "   --------------- ------------------------ 16.0/41.0 MB 8.0 MB/s eta 0:00:04\n",
      "   ----------------- ---------------------- 17.8/41.0 MB 8.0 MB/s eta 0:00:03\n",
      "   ------------------ --------------------- 19.4/41.0 MB 8.1 MB/s eta 0:00:03\n",
      "   -------------------- ------------------- 21.0/41.0 MB 8.0 MB/s eta 0:00:03\n",
      "   ---------------------- ----------------- 22.8/41.0 MB 8.0 MB/s eta 0:00:03\n",
      "   ------------------------ --------------- 24.6/41.0 MB 8.1 MB/s eta 0:00:03\n",
      "   ------------------------- -------------- 26.5/41.0 MB 8.1 MB/s eta 0:00:02\n",
      "   --------------------------- ------------ 28.3/41.0 MB 8.2 MB/s eta 0:00:02\n",
      "   ---------------------------- ----------- 29.6/41.0 MB 8.0 MB/s eta 0:00:02\n",
      "   ------------------------------ --------- 31.7/41.0 MB 8.1 MB/s eta 0:00:02\n",
      "   -------------------------------- ------- 33.6/41.0 MB 8.1 MB/s eta 0:00:01\n",
      "   ---------------------------------- ----- 35.4/41.0 MB 8.2 MB/s eta 0:00:01\n",
      "   ------------------------------------ --- 37.5/41.0 MB 8.2 MB/s eta 0:00:01\n",
      "   -------------------------------------- - 39.6/41.0 MB 8.3 MB/s eta 0:00:01\n",
      "   ---------------------------------------  40.9/41.0 MB 8.3 MB/s eta 0:00:01\n",
      "   ---------------------------------------- 41.0/41.0 MB 8.2 MB/s eta 0:00:00\n",
      "Installing collected packages: scipy\n",
      "Successfully installed scipy-1.15.3\n"
     ]
    },
    {
     "name": "stderr",
     "output_type": "stream",
     "text": [
      "\n",
      "[notice] A new release of pip is available: 24.2 -> 25.1.1\n",
      "[notice] To update, run: python.exe -m pip install --upgrade pip\n"
     ]
    }
   ],
   "source": [
    "!pip install scipy"
   ]
  },
  {
   "cell_type": "code",
   "execution_count": 13,
   "id": "4d11121e",
   "metadata": {},
   "outputs": [],
   "source": [
    "import numpy as np\n",
    "from scipy import stats  # для моди\n",
    "\n",
    "# Набір даних — наприклад, бали учнів\n",
    "data = [12, 15, 20, 20, 21, 21, 22, 25, 30, 30, 30]"
   ]
  },
  {
   "cell_type": "markdown",
   "id": "7186d4c5",
   "metadata": {},
   "source": [
    "## Середнє значення (mean)"
   ]
  },
  {
   "cell_type": "code",
   "execution_count": 14,
   "id": "40ae0cc2",
   "metadata": {},
   "outputs": [
    {
     "name": "stdout",
     "output_type": "stream",
     "text": [
      "Середнє значення: 22.363636363636363\n"
     ]
    }
   ],
   "source": [
    "mean = np.mean(data)\n",
    "print(\"Середнє значення:\", mean)"
   ]
  },
  {
   "cell_type": "markdown",
   "id": "0e4bdf1e",
   "metadata": {},
   "source": [
    "## Медіана (median)"
   ]
  },
  {
   "cell_type": "code",
   "execution_count": 15,
   "id": "6da8303f",
   "metadata": {},
   "outputs": [
    {
     "name": "stdout",
     "output_type": "stream",
     "text": [
      "Медіана: 21.0\n"
     ]
    }
   ],
   "source": [
    "median = np.median(data)\n",
    "print(\"Медіана:\", median)"
   ]
  },
  {
   "cell_type": "markdown",
   "id": "ad42ff6b",
   "metadata": {},
   "source": [
    "## Мода (mode)"
   ]
  },
  {
   "cell_type": "code",
   "execution_count": 7,
   "id": "1327609b",
   "metadata": {},
   "outputs": [
    {
     "name": "stdout",
     "output_type": "stream",
     "text": [
      "Мода: 30\n"
     ]
    }
   ],
   "source": [
    "mode = stats.mode(data, keepdims=True)\n",
    "print(\"Мода:\", mode.mode[0])"
   ]
  },
  {
   "cell_type": "markdown",
   "id": "bae6460b",
   "metadata": {},
   "source": [
    "## Дисперсія (variance)"
   ]
  },
  {
   "cell_type": "code",
   "execution_count": 18,
   "id": "016318b7",
   "metadata": {},
   "outputs": [
    {
     "name": "stdout",
     "output_type": "stream",
     "text": [
      "Дисперсія: 32.59504132231405\n",
      "2.0\n",
      "896.0\n"
     ]
    }
   ],
   "source": [
    "variance = np.var(data)\n",
    "print(\"Дисперсія:\", variance)\n",
    "\n",
    "classA = [78, 79, 80, 81, 82]\n",
    "var1 = np.var(classA)\n",
    "print(var1)\n",
    "\n",
    "classB = [40, 50, 80, 100, 120]\n",
    "var2 = np.var(classB)\n",
    "print(var2)"
   ]
  },
  {
   "cell_type": "markdown",
   "id": "732c4882",
   "metadata": {},
   "source": [
    "## Середньоквадратичне відхилення (std)"
   ]
  },
  {
   "cell_type": "code",
   "execution_count": 9,
   "id": "a2e81c7b",
   "metadata": {},
   "outputs": [
    {
     "name": "stdout",
     "output_type": "stream",
     "text": [
      "Середньоквадратичне відхилення: 5.709206715675484\n"
     ]
    }
   ],
   "source": [
    "std_dev = np.std(data)\n",
    "print(\"Середньоквадратичне відхилення:\", std_dev)"
   ]
  },
  {
   "cell_type": "markdown",
   "id": "4272ee4d",
   "metadata": {},
   "source": [
    "## Підсумковий приклад"
   ]
  },
  {
   "cell_type": "code",
   "execution_count": 19,
   "id": "80b8cfa4",
   "metadata": {},
   "outputs": [
    {
     "name": "stdout",
     "output_type": "stream",
     "text": [
      "Середнє: 32.857142857142854\n",
      "Медіана: 25.0\n",
      "Мода: 20\n",
      "Дисперсія: 784.6938775510201\n",
      "Std: 28.01238793018225\n"
     ]
    }
   ],
   "source": [
    "data2 = [10, 20, 20, 25, 25, 30, 100]  # 100 — викид\n",
    "\n",
    "print(\"Середнє:\", np.mean(data2))\n",
    "print(\"Медіана:\", np.median(data2))\n",
    "print(\"Мода:\", stats.mode(data2, keepdims=True).mode[0])\n",
    "print(\"Дисперсія:\", np.var(data2))\n",
    "print(\"Std:\", np.std(data2))"
   ]
  },
  {
   "cell_type": "code",
   "execution_count": null,
   "id": "b3d7308f-6368-44f8-b784-4a5ee5000d24",
   "metadata": {},
   "outputs": [],
   "source": []
  }
 ],
 "metadata": {
  "kernelspec": {
   "display_name": "Python 3 (ipykernel)",
   "language": "python",
   "name": "python3"
  },
  "language_info": {
   "codemirror_mode": {
    "name": "ipython",
    "version": 3
   },
   "file_extension": ".py",
   "mimetype": "text/x-python",
   "name": "python",
   "nbconvert_exporter": "python",
   "pygments_lexer": "ipython3",
   "version": "3.13.1"
  }
 },
 "nbformat": 4,
 "nbformat_minor": 5
}
